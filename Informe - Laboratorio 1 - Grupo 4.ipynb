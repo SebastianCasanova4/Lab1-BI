{
 "cells": [
  {
   "cell_type": "markdown",
   "id": "a5e133a5",
   "metadata": {},
   "source": [
    "# Informe de Laboratorio 1 - Grupo 4\n",
    "--------------------------------------------------------------------\n",
    "\n",
    "## Integrantes\n",
    "\n",
    "- Nicolas Diaz Montaña - n.diaz9 - 202021006\n",
    "\n",
    "- Julio Alexander Peña Tovar - \n",
    "\n",
    "- Sebastian Enrique Casanova Ospina - s.casanovao - 202115116"
   ]
  },
  {
   "cell_type": "markdown",
   "id": "4f226601",
   "metadata": {},
   "source": [
    "\n",
    "## Objetivos\n",
    "\n",
    "El siguiente informe tiene los objetivos de:\n",
    "\n",
    "- Aplicar el proceso de aprendizaje para resolver una tarea de agrupación, desde la preparación de los datos hasta la interpretación de los resultados.\n",
    "<br><br>\n",
    "- Aplicar tres algoritmos de clústering (k-means y dos de libre elección) para resolver el objetivo de la organización.\n",
    "<br><br>\n",
    "- Determinar los hiperparámetros para la construcción de los modelos dependiendo de los algoritmos utilizados.\n",
    "<br><br>\n",
    "- Recomendar el algoritmo más adecuado a la organización con base en una tabla comparativa que muestre el rendimiento de los tres modelos construidos.\n",
    "<br><br>\n",
    "- Derivar conclusiones a partir de los mejores grupos identificados, que sean útiles para la organización. Comunicar los hallazgos encontrados a la organización, explicando por qué tienen valor para el negocio."
   ]
  },
  {
   "cell_type": "markdown",
   "id": "6083b779",
   "metadata": {},
   "source": [
    "## 1. Entendimiento de Datos"
   ]
  },
  {
   "cell_type": "markdown",
   "id": "3837b8cc",
   "metadata": {},
   "source": [
    "### 1.1. Enunciado del Negocio\n",
    "\n",
    "En el vasto panorama del mundo empresarial, la comprensión profunda de los clientes es la clave para el éxito sostenible. La segmentación de clientes emerge como una poderosa herramienta estratégica que redefine la forma en que las empresas abordan sus mercados. Este proceso implica la división cuidadosa y deliberada de la base de clientes en grupos homogéneos, con características y comportamientos similares. La segmentación de clientes va más allá de la simple categorización; es la llave maestra que desbloquea el potencial de la personalización. Al centrarse en las similitudes y preferencias compartidas dentro de cada segmento, las empresas pueden anticipar las necesidades de sus clientes, crear mensajes más efectivos y diseñar productos y servicios que resuenen con precisión.\n",
    "<br>\n",
    "<br>\n",
    "AlpesInsight, es una empresa pionera en la intersección de servicios financieros y tecnología. En su búsqueda constante para ofrecer experiencias personalizadas y seguras a sus clientes, AlpesInsight está expandiendo su equipo con la incorporación de expertos en aprendizaje automático para enfrentar el desafío de aprovechar datos de transacciones con tarjetas de crédito para comprender los patrones de comportamiento y preferencias de los clientes. AlpesInsight se esfuerza por desarrollar soluciones innovadoras que permitan personalizar ofertas financieras y servicios, mejorando así la satisfacción del cliente y fortaleciendo la seguridad de las transacciones."
   ]
  },
  {
   "cell_type": "markdown",
   "id": "d00cccc1",
   "metadata": {},
   "source": [
    "### 1.2. Carga de librerias necesarias y carga de datos"
   ]
  },
  {
   "cell_type": "markdown",
   "id": "eaff282a",
   "metadata": {},
   "source": [
    "Lo primero ha realizar es descargar las librerias correspondientes que se va a utilizar para la completa realiacion del laboratorio. A su vez, se descargaran los datos del csv donde se encuentra la informacion de los clientes. "
   ]
  },
  {
   "cell_type": "code",
   "execution_count": 209,
   "id": "15b4be84",
   "metadata": {},
   "outputs": [],
   "source": [
    "import sklearn\n",
    "import pandas as pd\n",
    "import numpy as np\n",
    "import matplotlib.pyplot as plt\n",
    "import seaborn as sns; sns.set()  # for plot styling\n",
    "\n",
    "from sklearn.cluster import KMeans\n",
    "from sklearn.metrics import silhouette_samples, silhouette_score\n",
    "from sklearn.preprocessing import MinMaxScaler\n",
    "from sklearn.preprocessing import StandardScaler\n",
    "from sklearn.preprocessing import OneHotEncoder\n",
    "\n",
    "from matplotlib import cm\n",
    "from mpl_toolkits.mplot3d import Axes3D # for 3D plots\n",
    "\n",
    "# Se cargan los datos. \n",
    "# Recuerde ajustar el directorio si lo requiere para encontrar los datos\n",
    "df_customer=pd.read_csv(\"data\\Agrupación_Customer_Data.csv\", sep=',', encoding = \"ISO-8859-1\")"
   ]
  },
  {
   "cell_type": "markdown",
   "id": "2e4a4eb7",
   "metadata": {},
   "source": [
    "Una vez realizado la carga de los dato empezaremos con el entedimiento de los datos para ver como se ajustan al contexto de negocio, ademas de hacer un analisis para comprobar la calidad de los mismos."
   ]
  },
  {
   "cell_type": "markdown",
   "id": "1e6e6c79",
   "metadata": {},
   "source": [
    "### 1.3. Perfilamiento de datos"
   ]
  },
  {
   "cell_type": "code",
   "execution_count": 46,
   "id": "16d3399b",
   "metadata": {},
   "outputs": [
    {
     "data": {
      "text/plain": [
       "(8961, 18)"
      ]
     },
     "execution_count": 46,
     "metadata": {},
     "output_type": "execute_result"
    }
   ],
   "source": [
    "df_customer.shape"
   ]
  },
  {
   "cell_type": "code",
   "execution_count": 47,
   "id": "e643ffd3",
   "metadata": {},
   "outputs": [
    {
     "data": {
      "text/html": [
       "<div>\n",
       "<style scoped>\n",
       "    .dataframe tbody tr th:only-of-type {\n",
       "        vertical-align: middle;\n",
       "    }\n",
       "\n",
       "    .dataframe tbody tr th {\n",
       "        vertical-align: top;\n",
       "    }\n",
       "\n",
       "    .dataframe thead th {\n",
       "        text-align: right;\n",
       "    }\n",
       "</style>\n",
       "<table border=\"1\" class=\"dataframe\">\n",
       "  <thead>\n",
       "    <tr style=\"text-align: right;\">\n",
       "      <th></th>\n",
       "      <th>CUST_ID</th>\n",
       "      <th>BALANCE</th>\n",
       "      <th>BALANCE_FREQUENCY</th>\n",
       "      <th>PURCHASES</th>\n",
       "      <th>ONEOFF_PURCHASES</th>\n",
       "      <th>INSTALLMENTS_PURCHASES</th>\n",
       "      <th>CASH_ADVANCE</th>\n",
       "      <th>PURCHASES_FREQUENCY</th>\n",
       "      <th>ONEOFF_PURCHASES_FREQUENCY</th>\n",
       "      <th>PURCHASES_INSTALLMENTS_FREQUENCY</th>\n",
       "      <th>CASH_ADVANCE_FREQUENCY</th>\n",
       "      <th>CASH_ADVANCE_TRX</th>\n",
       "      <th>PURCHASES_TRX</th>\n",
       "      <th>CREDIT_LIMIT</th>\n",
       "      <th>PAYMENTS</th>\n",
       "      <th>MINIMUM_PAYMENTS</th>\n",
       "      <th>PRC_FULL_PAYMENT</th>\n",
       "      <th>TENURE</th>\n",
       "    </tr>\n",
       "  </thead>\n",
       "  <tbody>\n",
       "    <tr>\n",
       "      <th>0</th>\n",
       "      <td>C10001</td>\n",
       "      <td>40.900749</td>\n",
       "      <td>0.818182</td>\n",
       "      <td>95.40</td>\n",
       "      <td>0.00</td>\n",
       "      <td>95.4</td>\n",
       "      <td>0.000000</td>\n",
       "      <td>0.166667</td>\n",
       "      <td>0.000000</td>\n",
       "      <td>0.083333</td>\n",
       "      <td>0.000000</td>\n",
       "      <td>0</td>\n",
       "      <td>2</td>\n",
       "      <td>1000.0</td>\n",
       "      <td>201.802084</td>\n",
       "      <td>139.509787</td>\n",
       "      <td>0.000000</td>\n",
       "      <td>12</td>\n",
       "    </tr>\n",
       "    <tr>\n",
       "      <th>1</th>\n",
       "      <td>C10002</td>\n",
       "      <td>3202.467416</td>\n",
       "      <td>0.909091</td>\n",
       "      <td>0.00</td>\n",
       "      <td>0.00</td>\n",
       "      <td>0.0</td>\n",
       "      <td>6442.945483</td>\n",
       "      <td>0.000000</td>\n",
       "      <td>NaN</td>\n",
       "      <td>0.000000</td>\n",
       "      <td>0.250000</td>\n",
       "      <td>4</td>\n",
       "      <td>0</td>\n",
       "      <td>7000.0</td>\n",
       "      <td>4103.032597</td>\n",
       "      <td>1072.340217</td>\n",
       "      <td>0.222222</td>\n",
       "      <td>12</td>\n",
       "    </tr>\n",
       "    <tr>\n",
       "      <th>2</th>\n",
       "      <td>C10003</td>\n",
       "      <td>2495.148862</td>\n",
       "      <td>1.000000</td>\n",
       "      <td>773.17</td>\n",
       "      <td>773.17</td>\n",
       "      <td>0.0</td>\n",
       "      <td>0.000000</td>\n",
       "      <td>1.000000</td>\n",
       "      <td>1.000000</td>\n",
       "      <td>0.000000</td>\n",
       "      <td>0.000000</td>\n",
       "      <td>0</td>\n",
       "      <td>12</td>\n",
       "      <td>7500.0</td>\n",
       "      <td>622.066742</td>\n",
       "      <td>627.284787</td>\n",
       "      <td>0.000000</td>\n",
       "      <td>12</td>\n",
       "    </tr>\n",
       "    <tr>\n",
       "      <th>3</th>\n",
       "      <td>C10004</td>\n",
       "      <td>1666.670542</td>\n",
       "      <td>0.636364</td>\n",
       "      <td>1499.00</td>\n",
       "      <td>1499.00</td>\n",
       "      <td>0.0</td>\n",
       "      <td>205.788017</td>\n",
       "      <td>0.083333</td>\n",
       "      <td>0.083333</td>\n",
       "      <td>0.000000</td>\n",
       "      <td>0.083333</td>\n",
       "      <td>1</td>\n",
       "      <td>1</td>\n",
       "      <td>7500.0</td>\n",
       "      <td>0.000000</td>\n",
       "      <td>NaN</td>\n",
       "      <td>0.000000</td>\n",
       "      <td>12</td>\n",
       "    </tr>\n",
       "    <tr>\n",
       "      <th>4</th>\n",
       "      <td>C10005</td>\n",
       "      <td>817.714335</td>\n",
       "      <td>1.000000</td>\n",
       "      <td>16.00</td>\n",
       "      <td>16.00</td>\n",
       "      <td>0.0</td>\n",
       "      <td>0.000000</td>\n",
       "      <td>0.083333</td>\n",
       "      <td>0.083333</td>\n",
       "      <td>0.000000</td>\n",
       "      <td>0.000000</td>\n",
       "      <td>0</td>\n",
       "      <td>1</td>\n",
       "      <td>1200.0</td>\n",
       "      <td>678.334763</td>\n",
       "      <td>244.791237</td>\n",
       "      <td>0.000000</td>\n",
       "      <td>12</td>\n",
       "    </tr>\n",
       "  </tbody>\n",
       "</table>\n",
       "</div>"
      ],
      "text/plain": [
       "  CUST_ID      BALANCE  BALANCE_FREQUENCY  PURCHASES  ONEOFF_PURCHASES  \\\n",
       "0  C10001    40.900749           0.818182      95.40              0.00   \n",
       "1  C10002  3202.467416           0.909091       0.00              0.00   \n",
       "2  C10003  2495.148862           1.000000     773.17            773.17   \n",
       "3  C10004  1666.670542           0.636364    1499.00           1499.00   \n",
       "4  C10005   817.714335           1.000000      16.00             16.00   \n",
       "\n",
       "   INSTALLMENTS_PURCHASES  CASH_ADVANCE  PURCHASES_FREQUENCY  \\\n",
       "0                    95.4      0.000000             0.166667   \n",
       "1                     0.0   6442.945483             0.000000   \n",
       "2                     0.0      0.000000             1.000000   \n",
       "3                     0.0    205.788017             0.083333   \n",
       "4                     0.0      0.000000             0.083333   \n",
       "\n",
       "   ONEOFF_PURCHASES_FREQUENCY  PURCHASES_INSTALLMENTS_FREQUENCY  \\\n",
       "0                    0.000000                          0.083333   \n",
       "1                         NaN                          0.000000   \n",
       "2                    1.000000                          0.000000   \n",
       "3                    0.083333                          0.000000   \n",
       "4                    0.083333                          0.000000   \n",
       "\n",
       "   CASH_ADVANCE_FREQUENCY  CASH_ADVANCE_TRX  PURCHASES_TRX  CREDIT_LIMIT  \\\n",
       "0                0.000000                 0              2        1000.0   \n",
       "1                0.250000                 4              0        7000.0   \n",
       "2                0.000000                 0             12        7500.0   \n",
       "3                0.083333                 1              1        7500.0   \n",
       "4                0.000000                 0              1        1200.0   \n",
       "\n",
       "      PAYMENTS  MINIMUM_PAYMENTS  PRC_FULL_PAYMENT  TENURE  \n",
       "0   201.802084        139.509787          0.000000      12  \n",
       "1  4103.032597       1072.340217          0.222222      12  \n",
       "2   622.066742        627.284787          0.000000      12  \n",
       "3     0.000000               NaN          0.000000      12  \n",
       "4   678.334763        244.791237          0.000000      12  "
      ]
     },
     "execution_count": 47,
     "metadata": {},
     "output_type": "execute_result"
    }
   ],
   "source": [
    "df_customer.head()"
   ]
  },
  {
   "cell_type": "code",
   "execution_count": 48,
   "id": "119a9ebf",
   "metadata": {},
   "outputs": [
    {
     "name": "stdout",
     "output_type": "stream",
     "text": [
      "<class 'pandas.core.frame.DataFrame'>\n",
      "RangeIndex: 8961 entries, 0 to 8960\n",
      "Data columns (total 18 columns):\n",
      " #   Column                            Non-Null Count  Dtype  \n",
      "---  ------                            --------------  -----  \n",
      " 0   CUST_ID                           8961 non-null   object \n",
      " 1   BALANCE                           8961 non-null   object \n",
      " 2   BALANCE_FREQUENCY                 8961 non-null   float64\n",
      " 3   PURCHASES                         8961 non-null   float64\n",
      " 4   ONEOFF_PURCHASES                  8961 non-null   float64\n",
      " 5   INSTALLMENTS_PURCHASES            8961 non-null   float64\n",
      " 6   CASH_ADVANCE                      8951 non-null   float64\n",
      " 7   PURCHASES_FREQUENCY               8961 non-null   float64\n",
      " 8   ONEOFF_PURCHASES_FREQUENCY        8948 non-null   float64\n",
      " 9   PURCHASES_INSTALLMENTS_FREQUENCY  8961 non-null   float64\n",
      " 10  CASH_ADVANCE_FREQUENCY            8961 non-null   float64\n",
      " 11  CASH_ADVANCE_TRX                  8961 non-null   int64  \n",
      " 12  PURCHASES_TRX                     8961 non-null   int64  \n",
      " 13  CREDIT_LIMIT                      8954 non-null   float64\n",
      " 14  PAYMENTS                          8961 non-null   float64\n",
      " 15  MINIMUM_PAYMENTS                  8648 non-null   float64\n",
      " 16  PRC_FULL_PAYMENT                  8961 non-null   float64\n",
      " 17  TENURE                            8961 non-null   int64  \n",
      "dtypes: float64(13), int64(3), object(2)\n",
      "memory usage: 1.2+ MB\n"
     ]
    }
   ],
   "source": [
    "# Revisar las características de los datos: completitud y tipo de dato\n",
    "df_customer.info()"
   ]
  },
  {
   "cell_type": "markdown",
   "id": "c73db104",
   "metadata": {},
   "source": [
    "**Análisis** \n",
    "<br><br>\n",
    "Aqui podemos notar que puede haber algunas incongruencias como que existen columnas con datos nulos."
   ]
  },
  {
   "cell_type": "code",
   "execution_count": 49,
   "id": "59ac6256",
   "metadata": {},
   "outputs": [
    {
     "data": {
      "text/html": [
       "<div>\n",
       "<style scoped>\n",
       "    .dataframe tbody tr th:only-of-type {\n",
       "        vertical-align: middle;\n",
       "    }\n",
       "\n",
       "    .dataframe tbody tr th {\n",
       "        vertical-align: top;\n",
       "    }\n",
       "\n",
       "    .dataframe thead th {\n",
       "        text-align: right;\n",
       "    }\n",
       "</style>\n",
       "<table border=\"1\" class=\"dataframe\">\n",
       "  <thead>\n",
       "    <tr style=\"text-align: right;\">\n",
       "      <th></th>\n",
       "      <th>BALANCE_FREQUENCY</th>\n",
       "      <th>PURCHASES</th>\n",
       "      <th>ONEOFF_PURCHASES</th>\n",
       "      <th>INSTALLMENTS_PURCHASES</th>\n",
       "      <th>CASH_ADVANCE</th>\n",
       "      <th>PURCHASES_FREQUENCY</th>\n",
       "      <th>ONEOFF_PURCHASES_FREQUENCY</th>\n",
       "      <th>PURCHASES_INSTALLMENTS_FREQUENCY</th>\n",
       "      <th>CASH_ADVANCE_FREQUENCY</th>\n",
       "      <th>CASH_ADVANCE_TRX</th>\n",
       "      <th>PURCHASES_TRX</th>\n",
       "      <th>CREDIT_LIMIT</th>\n",
       "      <th>PAYMENTS</th>\n",
       "      <th>MINIMUM_PAYMENTS</th>\n",
       "      <th>PRC_FULL_PAYMENT</th>\n",
       "      <th>TENURE</th>\n",
       "    </tr>\n",
       "  </thead>\n",
       "  <tbody>\n",
       "    <tr>\n",
       "      <th>count</th>\n",
       "      <td>8961.000000</td>\n",
       "      <td>8961.000000</td>\n",
       "      <td>8961.000000</td>\n",
       "      <td>8961.000000</td>\n",
       "      <td>8951.000000</td>\n",
       "      <td>8961.000000</td>\n",
       "      <td>8948.000000</td>\n",
       "      <td>8961.000000</td>\n",
       "      <td>8961.000000</td>\n",
       "      <td>8961.000000</td>\n",
       "      <td>8961.000000</td>\n",
       "      <td>8954.000000</td>\n",
       "      <td>8961.000000</td>\n",
       "      <td>8648.000000</td>\n",
       "      <td>8961.000000</td>\n",
       "      <td>8961.000000</td>\n",
       "    </tr>\n",
       "    <tr>\n",
       "      <th>mean</th>\n",
       "      <td>0.877337</td>\n",
       "      <td>1002.463128</td>\n",
       "      <td>591.909000</td>\n",
       "      <td>410.853942</td>\n",
       "      <td>975.911735</td>\n",
       "      <td>0.490390</td>\n",
       "      <td>0.205296</td>\n",
       "      <td>0.364427</td>\n",
       "      <td>0.135100</td>\n",
       "      <td>3.247071</td>\n",
       "      <td>14.701149</td>\n",
       "      <td>4492.107229</td>\n",
       "      <td>1732.346476</td>\n",
       "      <td>863.799380</td>\n",
       "      <td>0.153667</td>\n",
       "      <td>11.504520</td>\n",
       "    </tr>\n",
       "    <tr>\n",
       "      <th>std</th>\n",
       "      <td>0.236860</td>\n",
       "      <td>2135.454287</td>\n",
       "      <td>1658.954815</td>\n",
       "      <td>903.861664</td>\n",
       "      <td>2092.854438</td>\n",
       "      <td>0.401300</td>\n",
       "      <td>0.343200</td>\n",
       "      <td>0.397426</td>\n",
       "      <td>0.200037</td>\n",
       "      <td>6.820915</td>\n",
       "      <td>24.844201</td>\n",
       "      <td>3638.086840</td>\n",
       "      <td>2893.903128</td>\n",
       "      <td>2371.003422</td>\n",
       "      <td>0.292467</td>\n",
       "      <td>1.469939</td>\n",
       "    </tr>\n",
       "    <tr>\n",
       "      <th>min</th>\n",
       "      <td>0.000000</td>\n",
       "      <td>0.000000</td>\n",
       "      <td>0.000000</td>\n",
       "      <td>0.000000</td>\n",
       "      <td>0.000000</td>\n",
       "      <td>0.000000</td>\n",
       "      <td>-2.456400</td>\n",
       "      <td>0.000000</td>\n",
       "      <td>0.000000</td>\n",
       "      <td>0.000000</td>\n",
       "      <td>0.000000</td>\n",
       "      <td>50.000000</td>\n",
       "      <td>0.000000</td>\n",
       "      <td>0.019163</td>\n",
       "      <td>0.000000</td>\n",
       "      <td>-29.000000</td>\n",
       "    </tr>\n",
       "    <tr>\n",
       "      <th>25%</th>\n",
       "      <td>0.888889</td>\n",
       "      <td>39.800000</td>\n",
       "      <td>0.000000</td>\n",
       "      <td>0.000000</td>\n",
       "      <td>0.000000</td>\n",
       "      <td>0.083333</td>\n",
       "      <td>0.000000</td>\n",
       "      <td>0.000000</td>\n",
       "      <td>0.000000</td>\n",
       "      <td>0.000000</td>\n",
       "      <td>1.000000</td>\n",
       "      <td>1562.500000</td>\n",
       "      <td>383.282850</td>\n",
       "      <td>169.163545</td>\n",
       "      <td>0.000000</td>\n",
       "      <td>12.000000</td>\n",
       "    </tr>\n",
       "    <tr>\n",
       "      <th>50%</th>\n",
       "      <td>1.000000</td>\n",
       "      <td>361.730000</td>\n",
       "      <td>38.000000</td>\n",
       "      <td>89.000000</td>\n",
       "      <td>0.000000</td>\n",
       "      <td>0.500000</td>\n",
       "      <td>0.083333</td>\n",
       "      <td>0.166667</td>\n",
       "      <td>0.000000</td>\n",
       "      <td>0.000000</td>\n",
       "      <td>7.000000</td>\n",
       "      <td>3000.000000</td>\n",
       "      <td>855.843792</td>\n",
       "      <td>312.684092</td>\n",
       "      <td>0.000000</td>\n",
       "      <td>12.000000</td>\n",
       "    </tr>\n",
       "    <tr>\n",
       "      <th>75%</th>\n",
       "      <td>1.000000</td>\n",
       "      <td>1109.830000</td>\n",
       "      <td>576.000000</td>\n",
       "      <td>468.650000</td>\n",
       "      <td>1112.868860</td>\n",
       "      <td>0.916667</td>\n",
       "      <td>0.300000</td>\n",
       "      <td>0.750000</td>\n",
       "      <td>0.222222</td>\n",
       "      <td>4.000000</td>\n",
       "      <td>17.000000</td>\n",
       "      <td>6500.000000</td>\n",
       "      <td>1899.738286</td>\n",
       "      <td>825.496463</td>\n",
       "      <td>0.142857</td>\n",
       "      <td>12.000000</td>\n",
       "    </tr>\n",
       "    <tr>\n",
       "      <th>max</th>\n",
       "      <td>1.000000</td>\n",
       "      <td>49039.570000</td>\n",
       "      <td>40761.250000</td>\n",
       "      <td>22500.000000</td>\n",
       "      <td>47137.211760</td>\n",
       "      <td>1.000000</td>\n",
       "      <td>9.666670</td>\n",
       "      <td>1.000000</td>\n",
       "      <td>1.500000</td>\n",
       "      <td>123.000000</td>\n",
       "      <td>358.000000</td>\n",
       "      <td>30000.000000</td>\n",
       "      <td>50721.483360</td>\n",
       "      <td>76406.207520</td>\n",
       "      <td>1.000000</td>\n",
       "      <td>12.000000</td>\n",
       "    </tr>\n",
       "  </tbody>\n",
       "</table>\n",
       "</div>"
      ],
      "text/plain": [
       "       BALANCE_FREQUENCY     PURCHASES  ONEOFF_PURCHASES  \\\n",
       "count        8961.000000   8961.000000       8961.000000   \n",
       "mean            0.877337   1002.463128        591.909000   \n",
       "std             0.236860   2135.454287       1658.954815   \n",
       "min             0.000000      0.000000          0.000000   \n",
       "25%             0.888889     39.800000          0.000000   \n",
       "50%             1.000000    361.730000         38.000000   \n",
       "75%             1.000000   1109.830000        576.000000   \n",
       "max             1.000000  49039.570000      40761.250000   \n",
       "\n",
       "       INSTALLMENTS_PURCHASES  CASH_ADVANCE  PURCHASES_FREQUENCY  \\\n",
       "count             8961.000000   8951.000000          8961.000000   \n",
       "mean               410.853942    975.911735             0.490390   \n",
       "std                903.861664   2092.854438             0.401300   \n",
       "min                  0.000000      0.000000             0.000000   \n",
       "25%                  0.000000      0.000000             0.083333   \n",
       "50%                 89.000000      0.000000             0.500000   \n",
       "75%                468.650000   1112.868860             0.916667   \n",
       "max              22500.000000  47137.211760             1.000000   \n",
       "\n",
       "       ONEOFF_PURCHASES_FREQUENCY  PURCHASES_INSTALLMENTS_FREQUENCY  \\\n",
       "count                 8948.000000                       8961.000000   \n",
       "mean                     0.205296                          0.364427   \n",
       "std                      0.343200                          0.397426   \n",
       "min                     -2.456400                          0.000000   \n",
       "25%                      0.000000                          0.000000   \n",
       "50%                      0.083333                          0.166667   \n",
       "75%                      0.300000                          0.750000   \n",
       "max                      9.666670                          1.000000   \n",
       "\n",
       "       CASH_ADVANCE_FREQUENCY  CASH_ADVANCE_TRX  PURCHASES_TRX  CREDIT_LIMIT  \\\n",
       "count             8961.000000       8961.000000    8961.000000   8954.000000   \n",
       "mean                 0.135100          3.247071      14.701149   4492.107229   \n",
       "std                  0.200037          6.820915      24.844201   3638.086840   \n",
       "min                  0.000000          0.000000       0.000000     50.000000   \n",
       "25%                  0.000000          0.000000       1.000000   1562.500000   \n",
       "50%                  0.000000          0.000000       7.000000   3000.000000   \n",
       "75%                  0.222222          4.000000      17.000000   6500.000000   \n",
       "max                  1.500000        123.000000     358.000000  30000.000000   \n",
       "\n",
       "           PAYMENTS  MINIMUM_PAYMENTS  PRC_FULL_PAYMENT       TENURE  \n",
       "count   8961.000000       8648.000000       8961.000000  8961.000000  \n",
       "mean    1732.346476        863.799380          0.153667    11.504520  \n",
       "std     2893.903128       2371.003422          0.292467     1.469939  \n",
       "min        0.000000          0.019163          0.000000   -29.000000  \n",
       "25%      383.282850        169.163545          0.000000    12.000000  \n",
       "50%      855.843792        312.684092          0.000000    12.000000  \n",
       "75%     1899.738286        825.496463          0.142857    12.000000  \n",
       "max    50721.483360      76406.207520          1.000000    12.000000  "
      ]
     },
     "execution_count": 49,
     "metadata": {},
     "output_type": "execute_result"
    }
   ],
   "source": [
    "# Resumen de los estadisticos de las variables numéricas\n",
    "df_customer.describe()"
   ]
  },
  {
   "cell_type": "code",
   "execution_count": 50,
   "id": "3a5399d5",
   "metadata": {},
   "outputs": [
    {
     "data": {
      "text/html": [
       "<div>\n",
       "<style scoped>\n",
       "    .dataframe tbody tr th:only-of-type {\n",
       "        vertical-align: middle;\n",
       "    }\n",
       "\n",
       "    .dataframe tbody tr th {\n",
       "        vertical-align: top;\n",
       "    }\n",
       "\n",
       "    .dataframe thead th {\n",
       "        text-align: right;\n",
       "    }\n",
       "</style>\n",
       "<table border=\"1\" class=\"dataframe\">\n",
       "  <thead>\n",
       "    <tr style=\"text-align: right;\">\n",
       "      <th></th>\n",
       "      <th>CUST_ID</th>\n",
       "      <th>BALANCE</th>\n",
       "    </tr>\n",
       "  </thead>\n",
       "  <tbody>\n",
       "    <tr>\n",
       "      <th>count</th>\n",
       "      <td>8961</td>\n",
       "      <td>8961</td>\n",
       "    </tr>\n",
       "    <tr>\n",
       "      <th>unique</th>\n",
       "      <td>8950</td>\n",
       "      <td>8871</td>\n",
       "    </tr>\n",
       "    <tr>\n",
       "      <th>top</th>\n",
       "      <td>C10298</td>\n",
       "      <td>0</td>\n",
       "    </tr>\n",
       "    <tr>\n",
       "      <th>freq</th>\n",
       "      <td>4</td>\n",
       "      <td>80</td>\n",
       "    </tr>\n",
       "  </tbody>\n",
       "</table>\n",
       "</div>"
      ],
      "text/plain": [
       "       CUST_ID BALANCE\n",
       "count     8961    8961\n",
       "unique    8950    8871\n",
       "top     C10298       0\n",
       "freq         4      80"
      ]
     },
     "execution_count": 50,
     "metadata": {},
     "output_type": "execute_result"
    }
   ],
   "source": [
    "# Explorar las variables que no son numéricas\n",
    "name_cols_non_number = df_customer.select_dtypes(include = ['object']).columns\n",
    "name_cols_non_number\n",
    "\n",
    "#Revisar el contenido de las variables que no son numéricas, en este caso son categóricas\n",
    "df_customer[name_cols_non_number].describe()"
   ]
  },
  {
   "cell_type": "code",
   "execution_count": 51,
   "id": "a9c02c4d",
   "metadata": {
    "scrolled": false
   },
   "outputs": [
    {
     "data": {
      "image/png": "[encoded data removed]",
      "text/plain": [
       "<Figure size 2500x1200 with 1 Axes>"
      ]
     },
     "metadata": {},
     "output_type": "display_data"
    }
   ],
   "source": [
    "#Seleccion de las frecuencias de los balances de la cuenta y los tipos de de compra\n",
    "name_cols_frequency = [\"BALANCE_FREQUENCY\", \"PURCHASES_FREQUENCY\",\"ONEOFF_PURCHASES_FREQUENCY\",\"PURCHASES_INSTALLMENTS_FREQUENCY\",\"CASH_ADVANCE_FREQUENCY\", \"PRC_FULL_PAYMENT\"]\n",
    "\n",
    "#Visualización de todas las variables numéricas de iipo Float\n",
    "fig=plt.figure(figsize=(25,12))\n",
    "ax = sns.boxplot(data=df_customer[name_cols_frequency], orient=\"v\")"
   ]
  },
  {
   "cell_type": "markdown",
   "id": "0b0015c0",
   "metadata": {},
   "source": [
    "**Análisis** \n",
    "<br><br>\n",
    "Aqui se puede observar que hay varios valores atipicos que se evidencia en las columnas de Compra unica y adelante en efectivo. Donde algunos valores sobrepasan el limite establecido del rango entre [0,1] que representa el porcentaje de frecuencia. Por ejemplo, en la columna de Compra unica hay un valor llega casi a 10, lo que significaria una frecuencia del 1000%."
   ]
  },
  {
   "cell_type": "code",
   "execution_count": 52,
   "id": "fe401876",
   "metadata": {},
   "outputs": [
    {
     "data": {
      "image/png": "[encoded data removed]",
      "text/plain": [
       "<Figure size 1500x800 with 1 Axes>"
      ]
     },
     "metadata": {},
     "output_type": "display_data"
    }
   ],
   "source": [
    "name_col_limit = [\"CREDIT_LIMIT\"]\n",
    "\n",
    "#Visualización \n",
    "fig=plt.figure(figsize=(15,8))\n",
    "ax = sns.boxplot(data=df_customer[name_col_limit], orient=\"v\")"
   ]
  },
  {
   "cell_type": "markdown",
   "id": "eb7dc98c",
   "metadata": {},
   "source": [
    "**Análisis** \n",
    "<br><br>\n",
    "Aqui se puede observar que hay algunas instancias que se estan muy por encima del promedio, estas lo pueden afectar a los modelos de manera que los puede sesgar. Esto s datos superiores a la media se pueden juntar en un mismo valor de la media o mayor a la media. Tambien se podrian eliminar ya que podrian considerarse no necesarios."
   ]
  },
  {
   "cell_type": "code",
   "execution_count": 207,
   "id": "80f23391",
   "metadata": {},
   "outputs": [
    {
     "data": {
      "text/plain": [
       "TENURE\n",
       "12    7538\n",
       "11     361\n",
       "10     235\n",
       "6      198\n",
       "8      192\n",
       "7      189\n",
       "9      175\n",
       "Name: count, dtype: int64"
      ]
     },
     "execution_count": 207,
     "metadata": {},
     "output_type": "execute_result"
    }
   ],
   "source": [
    "df_customer.TENURE.value_counts()"
   ]
  },
  {
   "cell_type": "markdown",
   "id": "a8f40b20",
   "metadata": {},
   "source": [
    "**Análisis** \n",
    "<br><br>\n",
    "Aqui podemos notar que tenemos datos que no tiene sentido con respecto al contexto y descripcion de la columna TENURE, la cual describe por cuanto tiempo ha sido cliente esa instancia. Los datos negativos son los que provocan un problema."
   ]
  },
  {
   "cell_type": "code",
   "execution_count": 187,
   "id": "5db06202",
   "metadata": {},
   "outputs": [],
   "source": [
    "# Vamos relaciones entre las variables numericas, en este momento excluiremos BALANCE por lo que tiene instancias de datos\n",
    "# que no son de tipo numerico y CUST_ID no tiene relevancia en el analisis.\n",
    "\n",
    "df_customer_cols_sels=df_customer.head(50).copy().drop(columns=[\"CUST_ID\",\"BALANCE\"])"
   ]
  },
  {
   "cell_type": "code",
   "execution_count": 206,
   "id": "28ef10f0",
   "metadata": {},
   "outputs": [
    {
     "data": {
      "text/plain": [
       "<Axes: >"
      ]
     },
     "execution_count": 206,
     "metadata": {},
     "output_type": "execute_result"
    },
    {
     "data": {
      "image/png": "[encoded data removed]",
      "text/plain": [
       "<Figure size 640x480 with 2 Axes>"
      ]
     },
     "metadata": {},
     "output_type": "display_data"
    }
   ],
   "source": [
    "from sklearn.preprocessing import MinMaxScaler\n",
    "\n",
    "# Aqui normalizaremos los datos\n",
    "scaler = MinMaxScaler()\n",
    "normalized_df = pd.DataFrame(scaler.fit_transform(df_customer_cols_sels), columns=df_customer_cols_sels.columns)\n",
    "\n",
    "# Se hara una matriz de correlacion para que se puede comparar que tanto se relacionan las columnas entre si\n",
    "correlation_matrix = normalized_df.corr()\n",
    "\n",
    "# En esta gráfica de tipo heatmap va mostrar las correlaciones\n",
    "sns.heatmap(correlation_matrix, cmap='coolwarm')"
   ]
  },
  {
   "cell_type": "code",
   "execution_count": 60,
   "id": "deb2abe7",
   "metadata": {},
   "outputs": [
    {
     "data": {
      "image/png": "[encoded data removed]",
      "text/plain": [
       "<Figure size 640x480 with 1 Axes>"
      ]
     },
     "metadata": {},
     "output_type": "display_data"
    }
   ],
   "source": [
    "# Visualmente ver la cantidad de valores y de filas x valor\n",
    "ax = sns.countplot(x='TENURE', data=df_customer)"
   ]
  },
  {
   "cell_type": "code",
   "execution_count": 61,
   "id": "7090cc4f",
   "metadata": {},
   "outputs": [
    {
     "name": "stderr",
     "output_type": "stream",
     "text": [
      "C:\\Users\\nicod\\anaconda3\\Lib\\site-packages\\seaborn\\axisgrid.py:118: UserWarning: The figure layout has changed to tight\n",
      "  self._figure.tight_layout(*args, **kwargs)\n"
     ]
    },
    {
     "data": {
      "text/plain": [
       "<seaborn.axisgrid.FacetGrid at 0x1e7acb2ac90>"
      ]
     },
     "execution_count": 61,
     "metadata": {},
     "output_type": "execute_result"
    },
    {
     "data": {
      "image/png": "[encoded data removed]",
      "text/plain": [
       "<Figure size 4580.72x500 with 9 Axes>"
      ]
     },
     "metadata": {},
     "output_type": "display_data"
    }
   ],
   "source": [
    "sns.displot(data=df_customer, x=\"PURCHASES_FREQUENCY\", hue=\"TENURE\", col=\"TENURE\")"
   ]
  },
  {
   "cell_type": "markdown",
   "id": "fd39b20b",
   "metadata": {},
   "source": [
    "**Análisis**\n",
    "\n",
    "En las anterior graficas podemos ver que la mayoria de los datos se encuentran en los clientes que han estado 12 meses con la empresa, se podrian cosiderar no necesarios a los usuarios que estan por debajo de los 12 meses ya que no representan un gran procentaje de la informacion. Aun asi pueden ser utiles para un analisis puramente de \"nuevos clientes\"."
   ]
  },
  {
   "cell_type": "markdown",
   "id": "ccb91e39",
   "metadata": {},
   "source": [
    "## 1.3. Análisis de calidad de datos"
   ]
  },
  {
   "cell_type": "markdown",
   "id": "7c98087d",
   "metadata": {},
   "source": [
    "Revisamos las dimensiones de calidad: unicidad, completitud, consistencia, validez. En particular miramos si se presenta algún problema de calidad relacionado con la dimensión y pensamos en opciones para su posterior corrección en la etapa de preparación."
   ]
  },
  {
   "cell_type": "markdown",
   "id": "7ff78aa3",
   "metadata": {},
   "source": [
    "### 1.3.1 Completitud - Análisis de valores nulos o vacíos"
   ]
  },
  {
   "cell_type": "code",
   "execution_count": 62,
   "id": "56e173cb",
   "metadata": {},
   "outputs": [
    {
     "data": {
      "text/plain": [
       "MINIMUM_PAYMENTS                    0.034929\n",
       "ONEOFF_PURCHASES_FREQUENCY          0.001451\n",
       "CASH_ADVANCE                        0.001116\n",
       "CREDIT_LIMIT                        0.000781\n",
       "CUST_ID                             0.000000\n",
       "CASH_ADVANCE_FREQUENCY              0.000000\n",
       "PRC_FULL_PAYMENT                    0.000000\n",
       "PAYMENTS                            0.000000\n",
       "PURCHASES_TRX                       0.000000\n",
       "CASH_ADVANCE_TRX                    0.000000\n",
       "PURCHASES_INSTALLMENTS_FREQUENCY    0.000000\n",
       "BALANCE                             0.000000\n",
       "PURCHASES_FREQUENCY                 0.000000\n",
       "INSTALLMENTS_PURCHASES              0.000000\n",
       "ONEOFF_PURCHASES                    0.000000\n",
       "PURCHASES                           0.000000\n",
       "BALANCE_FREQUENCY                   0.000000\n",
       "TENURE                              0.000000\n",
       "dtype: float64"
      ]
     },
     "execution_count": 62,
     "metadata": {},
     "output_type": "execute_result"
    }
   ],
   "source": [
    "# Cálculo de porcentaje de valores nulos por columna\n",
    "((df_customer.isnull().sum()/df_customer.shape[0])).sort_values(ascending=False)"
   ]
  },
  {
   "cell_type": "markdown",
   "id": "6b8a4cd3",
   "metadata": {},
   "source": [
    "En este punto se puede evidencuar que 4 (MINIMUM_PAYMENTS, ONEOFF_PURCHASES, CASH_ADVANCE, CREDIT_LIMIT) columnas tienen un porcentaje mayor a 0 de datos vacios, lo cual significa que algunas instancias de usuarios tienen huecos en esas columnas. El que mas sobresale es MINIMUM_PAYMENTS con un porcentaje del 0.034929.\n",
    "\n",
    "Aun asi, se podria argumentar que las instancias vacias de MINIMUM_PAYMENTS, ONEOFF_PURCHASES, CASH_ADVANCE pueden ser candidatas a ser remplazadas por la  0 por que puede ser que no el usuario no ha hecho ese tipo de movimientos. En cambio CREDIT_LIMIT, puede que no se incluya en los modelos a realizar pero aun asi se podria tener en cuenta remplazar esos valores de la media para no perder la informacion de esas filas."
   ]
  },
  {
   "cell_type": "markdown",
   "id": "dad90a46",
   "metadata": {},
   "source": [
    "### 1.3.2. Unicidad"
   ]
  },
  {
   "cell_type": "markdown",
   "id": "fe3ec8fb",
   "metadata": {},
   "source": [
    "Aqui no puede haber excusas de que hayan duplicados de filas debido al contexto del negocio y a la informacion prevista. En este caso, no puede haber dos clientes con el mismo ID que seria una incongruencia aunque cierta informacion se puede repetir en otras columnas. Lo ideal seria elminarlas para que no generen problemas a la hora de hacer los modelos."
   ]
  },
  {
   "cell_type": "code",
   "execution_count": 63,
   "id": "46ab89e2",
   "metadata": {},
   "outputs": [
    {
     "name": "stdout",
     "output_type": "stream",
     "text": [
      "Total de filas repetidas: 20\n"
     ]
    }
   ],
   "source": [
    "print('Total de filas repetidas:', df_customer.duplicated(keep = False).sum())"
   ]
  },
  {
   "cell_type": "markdown",
   "id": "8c9d58d5",
   "metadata": {},
   "source": [
    "Aqui podemos evidenciar que hubo 20 filas repetidas de 8961."
   ]
  },
  {
   "cell_type": "markdown",
   "id": "a57feeb9",
   "metadata": {},
   "source": [
    "### 1.3.3. Consistencia"
   ]
  },
  {
   "cell_type": "code",
   "execution_count": 64,
   "id": "110ab16b",
   "metadata": {},
   "outputs": [
    {
     "data": {
      "text/plain": [
       "TENURE\n",
       " 12    7589\n",
       " 11     366\n",
       " 10     236\n",
       " 6      205\n",
       " 8      196\n",
       " 7      190\n",
       " 9      175\n",
       "-12       3\n",
       "-29       1\n",
       "Name: count, dtype: int64"
      ]
     },
     "execution_count": 64,
     "metadata": {},
     "output_type": "execute_result"
    }
   ],
   "source": [
    "# Aqui revisaremos los valores de variable TENUR, la cual hace referencia del tiempo en meses que lleva el cliente con la empresa.\n",
    "# Como ya se habia mencionado antes, los valores negativos no tienen mucho sentido por que no se puede decir que un cliente ha estado -29 meses con la empresa.\n",
    "df_customer.TENURE.value_counts()"
   ]
  },
  {
   "cell_type": "code",
   "execution_count": 65,
   "id": "88a8d2b8",
   "metadata": {},
   "outputs": [
    {
     "data": {
      "text/html": [
       "<div>\n",
       "<style scoped>\n",
       "    .dataframe tbody tr th:only-of-type {\n",
       "        vertical-align: middle;\n",
       "    }\n",
       "\n",
       "    .dataframe tbody tr th {\n",
       "        vertical-align: top;\n",
       "    }\n",
       "\n",
       "    .dataframe thead th {\n",
       "        text-align: right;\n",
       "    }\n",
       "</style>\n",
       "<table border=\"1\" class=\"dataframe\">\n",
       "  <thead>\n",
       "    <tr style=\"text-align: right;\">\n",
       "      <th></th>\n",
       "      <th>ONEOFF_PURCHASES_FREQUENCY</th>\n",
       "      <th>CASH_ADVANCE_FREQUENCY</th>\n",
       "    </tr>\n",
       "  </thead>\n",
       "  <tbody>\n",
       "    <tr>\n",
       "      <th>min</th>\n",
       "      <td>-2.45640</td>\n",
       "      <td>0.0</td>\n",
       "    </tr>\n",
       "    <tr>\n",
       "      <th>max</th>\n",
       "      <td>9.66667</td>\n",
       "      <td>1.5</td>\n",
       "    </tr>\n",
       "  </tbody>\n",
       "</table>\n",
       "</div>"
      ],
      "text/plain": [
       "     ONEOFF_PURCHASES_FREQUENCY  CASH_ADVANCE_FREQUENCY\n",
       "min                    -2.45640                     0.0\n",
       "max                     9.66667                     1.5"
      ]
     },
     "execution_count": 65,
     "metadata": {},
     "output_type": "execute_result"
    }
   ],
   "source": [
    "# Ver los valores maximos y minimos de las columnas ONEOFF_PURCHASES_FREQUENCY y CASH_ADVANCE_FREQUENCY \n",
    "cols_select=[\"ONEOFF_PURCHASES_FREQUENCY\",\"CASH_ADVANCE_FREQUENCY\"]\n",
    "df_customer_cols_sels=df_customer[cols_select].copy()\n",
    "\n",
    "df_customer_cols_sels.describe().loc[['min', 'max']]"
   ]
  },
  {
   "cell_type": "markdown",
   "id": "313d34b2",
   "metadata": {},
   "source": [
    "Segun el diccionario de datos, las columnas de frecuencia solo tiene un rango de 0 a 1 dado a que representan un porcentaje del 0 al 100. Pero como se puede evidenciar, estas dos columnas exceden esos limites en especial ONEOFF_PURCHASES_FREQUENCY."
   ]
  },
  {
   "cell_type": "markdown",
   "id": "5e5ac9c9",
   "metadata": {},
   "source": [
    "### 1.3.4. Validez"
   ]
  },
  {
   "cell_type": "code",
   "execution_count": 211,
   "id": "e98ba7b5",
   "metadata": {},
   "outputs": [
    {
     "name": "stdout",
     "output_type": "stream",
     "text": [
      "El tipo de dato que deberia ser BALANCE es float64 pero segun los datos es: object\n"
     ]
    }
   ],
   "source": [
    "column_type = df_customer['BALANCE'].dtype\n",
    "print(\"El tipo de dato que deberia ser BALANCE es float64 pero segun los datos es: {}\".format(column_type))"
   ]
  },
  {
   "cell_type": "markdown",
   "id": "aae5ef54",
   "metadata": {},
   "source": [
    "## 2. Preparacion de los datos\n"
   ]
  },
  {
   "cell_type": "markdown",
   "id": "ae851788",
   "metadata": {},
   "source": [
    "### 2.1 Corrección de Validez\n"
   ]
  },
  {
   "cell_type": "markdown",
   "id": "93a793cb",
   "metadata": {},
   "source": [
    "Lo primero que debemos hacer para preparar nuestro conjunto de datos es cambiar el tipo de dato de la columna BALANCE. Como vimos previamente al revisar la información de los datos, esta columna tiene como tipo de dato 'object'. Sin embargo, al remitirnos al diccionario de datos y revisar el documento CSV, podemos observar que estos datos son de tipo 'float64', ya que corresponden al promedio del balance mensual. "
   ]
  },
  {
   "cell_type": "code",
   "execution_count": 66,
   "id": "5147fc5c",
   "metadata": {},
   "outputs": [
    {
     "name": "stdout",
     "output_type": "stream",
     "text": [
      "0         40.900749\n",
      "1       3202.467416\n",
      "2       2495.148862\n",
      "3       1666.670542\n",
      "4        817.714335\n",
      "           ...     \n",
      "8956      28.493517\n",
      "8957      19.183215\n",
      "8958      23.398673\n",
      "8959      13.457564\n",
      "8960     372.708075\n",
      "Name: BALANCE, Length: 8955, dtype: float64\n"
     ]
    }
   ],
   "source": [
    "# Se cambia el tipo de dato de la columna BALANCE de Object a Float64\n",
    "df_customer = df_customer[df_customer['BALANCE'].str.contains(r'^[+-]?\\d*\\.?\\d+$')]\n",
    "df_customer['BALANCE'] = (df_customer[\"BALANCE\"]).astype(\"float\")\n",
    "print(df_customer['BALANCE'])\n"
   ]
  },
  {
   "cell_type": "markdown",
   "id": "4e0af323",
   "metadata": {},
   "source": [
    "**Análisis** \n",
    "<br><br>\n",
    "Al convertir la columna a float pudimos observar que habian unos pocos valores que estaban mal escritos por lo que se procedio a borrar esas filas."
   ]
  },
  {
   "cell_type": "markdown",
   "id": "7f1c366b",
   "metadata": {},
   "source": [
    "### 2.2 Corrección de Completitud\n",
    "\n"
   ]
  },
  {
   "cell_type": "markdown",
   "id": "c4cd45e3",
   "metadata": {},
   "source": [
    "2.1.1 Antes de borrar las filas con datos nulos debemos considerar que en una de las columnas la cantidad de datos de este tipo es bastante significativa por lo que seria un error hacerlo. La columna a la que nos referimos es la de pagos minimos, en esta columna el pago minimo es de 0, por lo que asumiermos que estos valores nulos es que el cliente no realizo ningun pago y los llenaremos con cero. "
   ]
  },
  {
   "cell_type": "code",
   "execution_count": 67,
   "id": "1d076966",
   "metadata": {},
   "outputs": [],
   "source": [
    "df_customer['MINIMUM_PAYMENTS'].fillna(0, inplace=True)"
   ]
  },
  {
   "cell_type": "markdown",
   "id": "7691d1e4",
   "metadata": {},
   "source": [
    "TOCA PONER AQUI COMO QUE LA COLUMNA YA NO TIENE NULOS\n"
   ]
  },
  {
   "cell_type": "markdown",
   "id": "ee2f5d14",
   "metadata": {},
   "source": [
    "2.2.2 Se eliminan todas las filas con valores nulos en alguna de las variables."
   ]
  },
  {
   "cell_type": "code",
   "execution_count": 68,
   "id": "b7a33bde",
   "metadata": {},
   "outputs": [
    {
     "data": {
      "text/plain": [
       "ONEOFF_PURCHASES_FREQUENCY          0.001452\n",
       "CASH_ADVANCE                        0.001117\n",
       "CREDIT_LIMIT                        0.000782\n",
       "CUST_ID                             0.000000\n",
       "CASH_ADVANCE_FREQUENCY              0.000000\n",
       "PRC_FULL_PAYMENT                    0.000000\n",
       "MINIMUM_PAYMENTS                    0.000000\n",
       "PAYMENTS                            0.000000\n",
       "PURCHASES_TRX                       0.000000\n",
       "CASH_ADVANCE_TRX                    0.000000\n",
       "PURCHASES_INSTALLMENTS_FREQUENCY    0.000000\n",
       "BALANCE                             0.000000\n",
       "PURCHASES_FREQUENCY                 0.000000\n",
       "INSTALLMENTS_PURCHASES              0.000000\n",
       "ONEOFF_PURCHASES                    0.000000\n",
       "PURCHASES                           0.000000\n",
       "BALANCE_FREQUENCY                   0.000000\n",
       "TENURE                              0.000000\n",
       "dtype: float64"
      ]
     },
     "execution_count": 68,
     "metadata": {},
     "output_type": "execute_result"
    }
   ],
   "source": [
    "#Se mira porcentajes de nulos ahroa\n",
    "((df_customer.isnull().sum()/df_customer.shape[0])).sort_values(ascending=False)"
   ]
  },
  {
   "cell_type": "code",
   "execution_count": 69,
   "id": "d916c54a",
   "metadata": {},
   "outputs": [],
   "source": [
    "df_customer.dropna(inplace = True)"
   ]
  },
  {
   "cell_type": "markdown",
   "id": "25ff4444",
   "metadata": {},
   "source": [
    "MOSTRAR QUE NO HAY NULOS"
   ]
  },
  {
   "cell_type": "markdown",
   "id": "8cfa99ee",
   "metadata": {},
   "source": [
    "### 2.3 Corrección de la Unicidad\n",
    "\n",
    "\n"
   ]
  },
  {
   "cell_type": "markdown",
   "id": "9f0080b9",
   "metadata": {},
   "source": [
    "2.3.1 Borrar que esten completamente duplicadas.\n",
    "Despues de identificadas las filas cuyos valores en cada variables sean iguales, se procede a borrar los duplicados."
   ]
  },
  {
   "cell_type": "code",
   "execution_count": 70,
   "id": "c03eff60",
   "metadata": {},
   "outputs": [
    {
     "data": {
      "text/plain": [
       "(8914, 18)"
      ]
     },
     "execution_count": 70,
     "metadata": {},
     "output_type": "execute_result"
    }
   ],
   "source": [
    "# Se eliminan las filas duplicadas \n",
    "df_customer.drop_duplicates(subset = df_customer.columns[:], inplace = True)\n",
    "df_customer.shape\n",
    "\n"
   ]
  },
  {
   "cell_type": "markdown",
   "id": "8cf70c57",
   "metadata": {},
   "source": [
    "2.4 Correccion de Consistencia\n",
    "\n"
   ]
  },
  {
   "cell_type": "markdown",
   "id": "b03ac366",
   "metadata": {},
   "source": [
    "correccion para las columnas"
   ]
  },
  {
   "cell_type": "markdown",
   "id": "d9d94524",
   "metadata": {},
   "source": [
    "2.4.1\n",
    "primero se ajustan los valores de estas dos columnas para que esten entre 0 y 1"
   ]
  },
  {
   "cell_type": "code",
   "execution_count": 71,
   "id": "283fbd0a",
   "metadata": {},
   "outputs": [],
   "source": [
    "columnasSeleccionadas= [\"ONEOFF_PURCHASES_FREQUENCY\",\"CASH_ADVANCE_FREQUENCY\"]\n",
    "for columna in columnasSeleccionadas:\n",
    "    df_customer = df_customer[(df_customer[columna] >= 0) & (df_customer[columna] <= 1)]"
   ]
  },
  {
   "cell_type": "markdown",
   "id": "bb31e656",
   "metadata": {},
   "source": [
    "Se verifica los valores"
   ]
  },
  {
   "cell_type": "code",
   "execution_count": 72,
   "id": "a7a6dc8f",
   "metadata": {},
   "outputs": [
    {
     "data": {
      "text/html": [
       "<div>\n",
       "<style scoped>\n",
       "    .dataframe tbody tr th:only-of-type {\n",
       "        vertical-align: middle;\n",
       "    }\n",
       "\n",
       "    .dataframe tbody tr th {\n",
       "        vertical-align: top;\n",
       "    }\n",
       "\n",
       "    .dataframe thead th {\n",
       "        text-align: right;\n",
       "    }\n",
       "</style>\n",
       "<table border=\"1\" class=\"dataframe\">\n",
       "  <thead>\n",
       "    <tr style=\"text-align: right;\">\n",
       "      <th></th>\n",
       "      <th>ONEOFF_PURCHASES_FREQUENCY</th>\n",
       "      <th>CASH_ADVANCE_FREQUENCY</th>\n",
       "    </tr>\n",
       "  </thead>\n",
       "  <tbody>\n",
       "    <tr>\n",
       "      <th>min</th>\n",
       "      <td>0.0</td>\n",
       "      <td>0.0</td>\n",
       "    </tr>\n",
       "    <tr>\n",
       "      <th>max</th>\n",
       "      <td>1.0</td>\n",
       "      <td>1.0</td>\n",
       "    </tr>\n",
       "  </tbody>\n",
       "</table>\n",
       "</div>"
      ],
      "text/plain": [
       "     ONEOFF_PURCHASES_FREQUENCY  CASH_ADVANCE_FREQUENCY\n",
       "min                         0.0                     0.0\n",
       "max                         1.0                     1.0"
      ]
     },
     "execution_count": 72,
     "metadata": {},
     "output_type": "execute_result"
    }
   ],
   "source": [
    "cols_select=[\"ONEOFF_PURCHASES_FREQUENCY\",\"CASH_ADVANCE_FREQUENCY\"]\n",
    "df_customer_cols_sels=df_customer[cols_select].copy()\n",
    "\n",
    "df_customer_cols_sels.describe().loc[['min', 'max']]"
   ]
  },
  {
   "cell_type": "markdown",
   "id": "342fa08b",
   "metadata": {},
   "source": [
    "AHORA EN LA COLUMNA TAL SE VERIFICA QUE SEAN MAYORES A 0"
   ]
  },
  {
   "cell_type": "code",
   "execution_count": 74,
   "id": "e4f3d3be",
   "metadata": {},
   "outputs": [],
   "source": [
    "df_customer = df_customer[(df_customer[\"TENURE\"] >= 0)]\n",
    "df_customer = df_customer[(df_customer[\"BALANCE\"] >= 0)]"
   ]
  },
  {
   "cell_type": "markdown",
   "id": "be8af6c5",
   "metadata": {},
   "source": [
    "SE VERIFICA EL RANGO DE LA COLUMNA"
   ]
  },
  {
   "cell_type": "code",
   "execution_count": 75,
   "id": "9e20d840",
   "metadata": {},
   "outputs": [
    {
     "data": {
      "text/plain": [
       "(8888, 18)"
      ]
     },
     "execution_count": 75,
     "metadata": {},
     "output_type": "execute_result"
    }
   ],
   "source": [
    "df_customer.shape"
   ]
  },
  {
   "cell_type": "code",
   "execution_count": 76,
   "id": "e35438ae",
   "metadata": {},
   "outputs": [
    {
     "data": {
      "text/html": [
       "<div>\n",
       "<style scoped>\n",
       "    .dataframe tbody tr th:only-of-type {\n",
       "        vertical-align: middle;\n",
       "    }\n",
       "\n",
       "    .dataframe tbody tr th {\n",
       "        vertical-align: top;\n",
       "    }\n",
       "\n",
       "    .dataframe thead th {\n",
       "        text-align: right;\n",
       "    }\n",
       "</style>\n",
       "<table border=\"1\" class=\"dataframe\">\n",
       "  <thead>\n",
       "    <tr style=\"text-align: right;\">\n",
       "      <th></th>\n",
       "      <th>BALANCE</th>\n",
       "      <th>BALANCE_FREQUENCY</th>\n",
       "      <th>PURCHASES</th>\n",
       "      <th>ONEOFF_PURCHASES</th>\n",
       "      <th>INSTALLMENTS_PURCHASES</th>\n",
       "      <th>CASH_ADVANCE</th>\n",
       "      <th>PURCHASES_FREQUENCY</th>\n",
       "      <th>ONEOFF_PURCHASES_FREQUENCY</th>\n",
       "      <th>PURCHASES_INSTALLMENTS_FREQUENCY</th>\n",
       "      <th>CASH_ADVANCE_FREQUENCY</th>\n",
       "      <th>CASH_ADVANCE_TRX</th>\n",
       "      <th>PURCHASES_TRX</th>\n",
       "      <th>CREDIT_LIMIT</th>\n",
       "      <th>PAYMENTS</th>\n",
       "      <th>MINIMUM_PAYMENTS</th>\n",
       "      <th>PRC_FULL_PAYMENT</th>\n",
       "      <th>TENURE</th>\n",
       "    </tr>\n",
       "  </thead>\n",
       "  <tbody>\n",
       "    <tr>\n",
       "      <th>count</th>\n",
       "      <td>8.888000e+03</td>\n",
       "      <td>8888.000000</td>\n",
       "      <td>8888.000000</td>\n",
       "      <td>8888.000000</td>\n",
       "      <td>8888.000000</td>\n",
       "      <td>8888.000000</td>\n",
       "      <td>8888.000000</td>\n",
       "      <td>8888.000000</td>\n",
       "      <td>8888.000000</td>\n",
       "      <td>8888.000000</td>\n",
       "      <td>8888.000000</td>\n",
       "      <td>8888.000000</td>\n",
       "      <td>8888.000000</td>\n",
       "      <td>8888.000000</td>\n",
       "      <td>8888.000000</td>\n",
       "      <td>8888.000000</td>\n",
       "      <td>8888.000000</td>\n",
       "    </tr>\n",
       "    <tr>\n",
       "      <th>mean</th>\n",
       "      <td>3.003776e+05</td>\n",
       "      <td>0.877183</td>\n",
       "      <td>1004.528936</td>\n",
       "      <td>592.903288</td>\n",
       "      <td>411.927924</td>\n",
       "      <td>974.580527</td>\n",
       "      <td>0.491018</td>\n",
       "      <td>0.202612</td>\n",
       "      <td>0.365034</td>\n",
       "      <td>0.134004</td>\n",
       "      <td>3.226260</td>\n",
       "      <td>14.737961</td>\n",
       "      <td>4487.553795</td>\n",
       "      <td>1730.296172</td>\n",
       "      <td>834.781189</td>\n",
       "      <td>0.154217</td>\n",
       "      <td>11.521040</td>\n",
       "    </tr>\n",
       "    <tr>\n",
       "      <th>std</th>\n",
       "      <td>2.015979e+07</td>\n",
       "      <td>0.237066</td>\n",
       "      <td>2140.947814</td>\n",
       "      <td>1663.262296</td>\n",
       "      <td>905.579269</td>\n",
       "      <td>2092.773716</td>\n",
       "      <td>0.401285</td>\n",
       "      <td>0.298548</td>\n",
       "      <td>0.397379</td>\n",
       "      <td>0.197333</td>\n",
       "      <td>6.751734</td>\n",
       "      <td>24.900483</td>\n",
       "      <td>3638.868622</td>\n",
       "      <td>2894.953292</td>\n",
       "      <td>2343.503996</td>\n",
       "      <td>0.292990</td>\n",
       "      <td>1.331769</td>\n",
       "    </tr>\n",
       "    <tr>\n",
       "      <th>min</th>\n",
       "      <td>0.000000e+00</td>\n",
       "      <td>0.000000</td>\n",
       "      <td>0.000000</td>\n",
       "      <td>0.000000</td>\n",
       "      <td>0.000000</td>\n",
       "      <td>0.000000</td>\n",
       "      <td>0.000000</td>\n",
       "      <td>0.000000</td>\n",
       "      <td>0.000000</td>\n",
       "      <td>0.000000</td>\n",
       "      <td>0.000000</td>\n",
       "      <td>0.000000</td>\n",
       "      <td>50.000000</td>\n",
       "      <td>0.000000</td>\n",
       "      <td>0.000000</td>\n",
       "      <td>0.000000</td>\n",
       "      <td>6.000000</td>\n",
       "    </tr>\n",
       "    <tr>\n",
       "      <th>25%</th>\n",
       "      <td>1.269274e+02</td>\n",
       "      <td>0.888889</td>\n",
       "      <td>39.822500</td>\n",
       "      <td>0.000000</td>\n",
       "      <td>0.000000</td>\n",
       "      <td>0.000000</td>\n",
       "      <td>0.083333</td>\n",
       "      <td>0.000000</td>\n",
       "      <td>0.000000</td>\n",
       "      <td>0.000000</td>\n",
       "      <td>0.000000</td>\n",
       "      <td>1.000000</td>\n",
       "      <td>1500.000000</td>\n",
       "      <td>383.211146</td>\n",
       "      <td>162.960515</td>\n",
       "      <td>0.000000</td>\n",
       "      <td>12.000000</td>\n",
       "    </tr>\n",
       "    <tr>\n",
       "      <th>50%</th>\n",
       "      <td>8.695156e+02</td>\n",
       "      <td>1.000000</td>\n",
       "      <td>363.090000</td>\n",
       "      <td>37.150000</td>\n",
       "      <td>89.980000</td>\n",
       "      <td>0.000000</td>\n",
       "      <td>0.500000</td>\n",
       "      <td>0.083333</td>\n",
       "      <td>0.166667</td>\n",
       "      <td>0.000000</td>\n",
       "      <td>0.000000</td>\n",
       "      <td>7.000000</td>\n",
       "      <td>3000.000000</td>\n",
       "      <td>856.901546</td>\n",
       "      <td>288.490792</td>\n",
       "      <td>0.000000</td>\n",
       "      <td>12.000000</td>\n",
       "    </tr>\n",
       "    <tr>\n",
       "      <th>75%</th>\n",
       "      <td>2.042886e+03</td>\n",
       "      <td>1.000000</td>\n",
       "      <td>1110.595000</td>\n",
       "      <td>579.017500</td>\n",
       "      <td>469.897500</td>\n",
       "      <td>1111.028435</td>\n",
       "      <td>0.916667</td>\n",
       "      <td>0.300000</td>\n",
       "      <td>0.750000</td>\n",
       "      <td>0.205556</td>\n",
       "      <td>4.000000</td>\n",
       "      <td>17.000000</td>\n",
       "      <td>6500.000000</td>\n",
       "      <td>1899.978541</td>\n",
       "      <td>786.448599</td>\n",
       "      <td>0.142857</td>\n",
       "      <td>12.000000</td>\n",
       "    </tr>\n",
       "    <tr>\n",
       "      <th>max</th>\n",
       "      <td>1.534969e+09</td>\n",
       "      <td>1.000000</td>\n",
       "      <td>49039.570000</td>\n",
       "      <td>40761.250000</td>\n",
       "      <td>22500.000000</td>\n",
       "      <td>47137.211760</td>\n",
       "      <td>1.000000</td>\n",
       "      <td>1.000000</td>\n",
       "      <td>1.000000</td>\n",
       "      <td>1.000000</td>\n",
       "      <td>123.000000</td>\n",
       "      <td>358.000000</td>\n",
       "      <td>30000.000000</td>\n",
       "      <td>50721.483360</td>\n",
       "      <td>76406.207520</td>\n",
       "      <td>1.000000</td>\n",
       "      <td>12.000000</td>\n",
       "    </tr>\n",
       "  </tbody>\n",
       "</table>\n",
       "</div>"
      ],
      "text/plain": [
       "            BALANCE  BALANCE_FREQUENCY     PURCHASES  ONEOFF_PURCHASES  \\\n",
       "count  8.888000e+03        8888.000000   8888.000000       8888.000000   \n",
       "mean   3.003776e+05           0.877183   1004.528936        592.903288   \n",
       "std    2.015979e+07           0.237066   2140.947814       1663.262296   \n",
       "min    0.000000e+00           0.000000      0.000000          0.000000   \n",
       "25%    1.269274e+02           0.888889     39.822500          0.000000   \n",
       "50%    8.695156e+02           1.000000    363.090000         37.150000   \n",
       "75%    2.042886e+03           1.000000   1110.595000        579.017500   \n",
       "max    1.534969e+09           1.000000  49039.570000      40761.250000   \n",
       "\n",
       "       INSTALLMENTS_PURCHASES  CASH_ADVANCE  PURCHASES_FREQUENCY  \\\n",
       "count             8888.000000   8888.000000          8888.000000   \n",
       "mean               411.927924    974.580527             0.491018   \n",
       "std                905.579269   2092.773716             0.401285   \n",
       "min                  0.000000      0.000000             0.000000   \n",
       "25%                  0.000000      0.000000             0.083333   \n",
       "50%                 89.980000      0.000000             0.500000   \n",
       "75%                469.897500   1111.028435             0.916667   \n",
       "max              22500.000000  47137.211760             1.000000   \n",
       "\n",
       "       ONEOFF_PURCHASES_FREQUENCY  PURCHASES_INSTALLMENTS_FREQUENCY  \\\n",
       "count                 8888.000000                       8888.000000   \n",
       "mean                     0.202612                          0.365034   \n",
       "std                      0.298548                          0.397379   \n",
       "min                      0.000000                          0.000000   \n",
       "25%                      0.000000                          0.000000   \n",
       "50%                      0.083333                          0.166667   \n",
       "75%                      0.300000                          0.750000   \n",
       "max                      1.000000                          1.000000   \n",
       "\n",
       "       CASH_ADVANCE_FREQUENCY  CASH_ADVANCE_TRX  PURCHASES_TRX  CREDIT_LIMIT  \\\n",
       "count             8888.000000       8888.000000    8888.000000   8888.000000   \n",
       "mean                 0.134004          3.226260      14.737961   4487.553795   \n",
       "std                  0.197333          6.751734      24.900483   3638.868622   \n",
       "min                  0.000000          0.000000       0.000000     50.000000   \n",
       "25%                  0.000000          0.000000       1.000000   1500.000000   \n",
       "50%                  0.000000          0.000000       7.000000   3000.000000   \n",
       "75%                  0.205556          4.000000      17.000000   6500.000000   \n",
       "max                  1.000000        123.000000     358.000000  30000.000000   \n",
       "\n",
       "           PAYMENTS  MINIMUM_PAYMENTS  PRC_FULL_PAYMENT       TENURE  \n",
       "count   8888.000000       8888.000000       8888.000000  8888.000000  \n",
       "mean    1730.296172        834.781189          0.154217    11.521040  \n",
       "std     2894.953292       2343.503996          0.292990     1.331769  \n",
       "min        0.000000          0.000000          0.000000     6.000000  \n",
       "25%      383.211146        162.960515          0.000000    12.000000  \n",
       "50%      856.901546        288.490792          0.000000    12.000000  \n",
       "75%     1899.978541        786.448599          0.142857    12.000000  \n",
       "max    50721.483360      76406.207520          1.000000    12.000000  "
      ]
     },
     "execution_count": 76,
     "metadata": {},
     "output_type": "execute_result"
    }
   ],
   "source": [
    "df_customer.describe()"
   ]
  },
  {
   "cell_type": "code",
   "execution_count": 77,
   "id": "37602dd0",
   "metadata": {},
   "outputs": [],
   "source": [
    "# Realizar una copia del datafram para no perjudicar los datos\n",
    "df_copia = df_customer.copy()\n",
    "\n",
    "# Calcula la media y la desviación estándar de las columnas balance y avg_spend en todo el DataFrame\n",
    "mean_balance = df_copia['BALANCE'].mean()\n",
    "std_balance = df_copia['BALANCE'].std()\n",
    "\n",
    "mean_avg_spend = df_copia['PURCHASES'].mean()\n",
    "std_avg_spend = df_copia['PURCHASES'].std()\n",
    "\n",
    "mean_cash_advance = df_copia['CASH_ADVANCE'].mean()\n",
    "std_cash_advance = df_copia['CASH_ADVANCE'].std()\n",
    "\n",
    "# Normaliza las columnas balance y avg_spend restando la media y dividiendo por la desviación estándar\n",
    "df_copia['BALANCE_NORM'] = (df_copia['BALANCE'] - mean_balance) / std_balance\n",
    "df_copia['PURCHASES_NORM'] = (df_copia['PURCHASES'] - mean_avg_spend) / std_avg_spend"
   ]
  },
  {
   "cell_type": "code",
   "execution_count": 78,
   "id": "cb74c0cf",
   "metadata": {},
   "outputs": [
    {
     "data": {
      "text/plain": [
       "(8888, 20)"
      ]
     },
     "execution_count": 78,
     "metadata": {},
     "output_type": "execute_result"
    }
   ],
   "source": [
    "df_copia.shape"
   ]
  },
  {
   "cell_type": "code",
   "execution_count": 79,
   "id": "1a923d54",
   "metadata": {},
   "outputs": [
    {
     "data": {
      "text/html": [
       "<div>\n",
       "<style scoped>\n",
       "    .dataframe tbody tr th:only-of-type {\n",
       "        vertical-align: middle;\n",
       "    }\n",
       "\n",
       "    .dataframe tbody tr th {\n",
       "        vertical-align: top;\n",
       "    }\n",
       "\n",
       "    .dataframe thead th {\n",
       "        text-align: right;\n",
       "    }\n",
       "</style>\n",
       "<table border=\"1\" class=\"dataframe\">\n",
       "  <thead>\n",
       "    <tr style=\"text-align: right;\">\n",
       "      <th></th>\n",
       "      <th>BALANCE</th>\n",
       "      <th>BALANCE_FREQUENCY</th>\n",
       "      <th>PURCHASES</th>\n",
       "      <th>ONEOFF_PURCHASES</th>\n",
       "      <th>INSTALLMENTS_PURCHASES</th>\n",
       "      <th>CASH_ADVANCE</th>\n",
       "      <th>PURCHASES_FREQUENCY</th>\n",
       "      <th>ONEOFF_PURCHASES_FREQUENCY</th>\n",
       "      <th>PURCHASES_INSTALLMENTS_FREQUENCY</th>\n",
       "      <th>CASH_ADVANCE_FREQUENCY</th>\n",
       "      <th>CASH_ADVANCE_TRX</th>\n",
       "      <th>PURCHASES_TRX</th>\n",
       "      <th>CREDIT_LIMIT</th>\n",
       "      <th>PAYMENTS</th>\n",
       "      <th>MINIMUM_PAYMENTS</th>\n",
       "      <th>PRC_FULL_PAYMENT</th>\n",
       "      <th>TENURE</th>\n",
       "      <th>BALANCE_NORM</th>\n",
       "      <th>PURCHASES_NORM</th>\n",
       "    </tr>\n",
       "  </thead>\n",
       "  <tbody>\n",
       "    <tr>\n",
       "      <th>count</th>\n",
       "      <td>8.888000e+03</td>\n",
       "      <td>8888.000000</td>\n",
       "      <td>8888.000000</td>\n",
       "      <td>8888.000000</td>\n",
       "      <td>8888.000000</td>\n",
       "      <td>8888.000000</td>\n",
       "      <td>8888.000000</td>\n",
       "      <td>8888.000000</td>\n",
       "      <td>8888.000000</td>\n",
       "      <td>8888.000000</td>\n",
       "      <td>8888.000000</td>\n",
       "      <td>8888.000000</td>\n",
       "      <td>8888.000000</td>\n",
       "      <td>8888.000000</td>\n",
       "      <td>8888.000000</td>\n",
       "      <td>8888.000000</td>\n",
       "      <td>8888.000000</td>\n",
       "      <td>8.888000e+03</td>\n",
       "      <td>8.888000e+03</td>\n",
       "    </tr>\n",
       "    <tr>\n",
       "      <th>mean</th>\n",
       "      <td>3.003776e+05</td>\n",
       "      <td>0.877183</td>\n",
       "      <td>1004.528936</td>\n",
       "      <td>592.903288</td>\n",
       "      <td>411.927924</td>\n",
       "      <td>974.580527</td>\n",
       "      <td>0.491018</td>\n",
       "      <td>0.202612</td>\n",
       "      <td>0.365034</td>\n",
       "      <td>0.134004</td>\n",
       "      <td>3.226260</td>\n",
       "      <td>14.737961</td>\n",
       "      <td>4487.553795</td>\n",
       "      <td>1730.296172</td>\n",
       "      <td>834.781189</td>\n",
       "      <td>0.154217</td>\n",
       "      <td>11.521040</td>\n",
       "      <td>-6.395524e-18</td>\n",
       "      <td>3.197762e-17</td>\n",
       "    </tr>\n",
       "    <tr>\n",
       "      <th>std</th>\n",
       "      <td>2.015979e+07</td>\n",
       "      <td>0.237066</td>\n",
       "      <td>2140.947814</td>\n",
       "      <td>1663.262296</td>\n",
       "      <td>905.579269</td>\n",
       "      <td>2092.773716</td>\n",
       "      <td>0.401285</td>\n",
       "      <td>0.298548</td>\n",
       "      <td>0.397379</td>\n",
       "      <td>0.197333</td>\n",
       "      <td>6.751734</td>\n",
       "      <td>24.900483</td>\n",
       "      <td>3638.868622</td>\n",
       "      <td>2894.953292</td>\n",
       "      <td>2343.503996</td>\n",
       "      <td>0.292990</td>\n",
       "      <td>1.331769</td>\n",
       "      <td>1.000000e+00</td>\n",
       "      <td>1.000000e+00</td>\n",
       "    </tr>\n",
       "    <tr>\n",
       "      <th>min</th>\n",
       "      <td>0.000000e+00</td>\n",
       "      <td>0.000000</td>\n",
       "      <td>0.000000</td>\n",
       "      <td>0.000000</td>\n",
       "      <td>0.000000</td>\n",
       "      <td>0.000000</td>\n",
       "      <td>0.000000</td>\n",
       "      <td>0.000000</td>\n",
       "      <td>0.000000</td>\n",
       "      <td>0.000000</td>\n",
       "      <td>0.000000</td>\n",
       "      <td>0.000000</td>\n",
       "      <td>50.000000</td>\n",
       "      <td>0.000000</td>\n",
       "      <td>0.000000</td>\n",
       "      <td>0.000000</td>\n",
       "      <td>6.000000</td>\n",
       "      <td>-1.489984e-02</td>\n",
       "      <td>-4.691982e-01</td>\n",
       "    </tr>\n",
       "    <tr>\n",
       "      <th>25%</th>\n",
       "      <td>1.269274e+02</td>\n",
       "      <td>0.888889</td>\n",
       "      <td>39.822500</td>\n",
       "      <td>0.000000</td>\n",
       "      <td>0.000000</td>\n",
       "      <td>0.000000</td>\n",
       "      <td>0.083333</td>\n",
       "      <td>0.000000</td>\n",
       "      <td>0.000000</td>\n",
       "      <td>0.000000</td>\n",
       "      <td>0.000000</td>\n",
       "      <td>1.000000</td>\n",
       "      <td>1500.000000</td>\n",
       "      <td>383.211146</td>\n",
       "      <td>162.960515</td>\n",
       "      <td>0.000000</td>\n",
       "      <td>12.000000</td>\n",
       "      <td>-1.489354e-02</td>\n",
       "      <td>-4.505978e-01</td>\n",
       "    </tr>\n",
       "    <tr>\n",
       "      <th>50%</th>\n",
       "      <td>8.695156e+02</td>\n",
       "      <td>1.000000</td>\n",
       "      <td>363.090000</td>\n",
       "      <td>37.150000</td>\n",
       "      <td>89.980000</td>\n",
       "      <td>0.000000</td>\n",
       "      <td>0.500000</td>\n",
       "      <td>0.083333</td>\n",
       "      <td>0.166667</td>\n",
       "      <td>0.000000</td>\n",
       "      <td>0.000000</td>\n",
       "      <td>7.000000</td>\n",
       "      <td>3000.000000</td>\n",
       "      <td>856.901546</td>\n",
       "      <td>288.490792</td>\n",
       "      <td>0.000000</td>\n",
       "      <td>12.000000</td>\n",
       "      <td>-1.485671e-02</td>\n",
       "      <td>-2.996051e-01</td>\n",
       "    </tr>\n",
       "    <tr>\n",
       "      <th>75%</th>\n",
       "      <td>2.042886e+03</td>\n",
       "      <td>1.000000</td>\n",
       "      <td>1110.595000</td>\n",
       "      <td>579.017500</td>\n",
       "      <td>469.897500</td>\n",
       "      <td>1111.028435</td>\n",
       "      <td>0.916667</td>\n",
       "      <td>0.300000</td>\n",
       "      <td>0.750000</td>\n",
       "      <td>0.205556</td>\n",
       "      <td>4.000000</td>\n",
       "      <td>17.000000</td>\n",
       "      <td>6500.000000</td>\n",
       "      <td>1899.978541</td>\n",
       "      <td>786.448599</td>\n",
       "      <td>0.142857</td>\n",
       "      <td>12.000000</td>\n",
       "      <td>-1.479850e-02</td>\n",
       "      <td>4.954164e-02</td>\n",
       "    </tr>\n",
       "    <tr>\n",
       "      <th>max</th>\n",
       "      <td>1.534969e+09</td>\n",
       "      <td>1.000000</td>\n",
       "      <td>49039.570000</td>\n",
       "      <td>40761.250000</td>\n",
       "      <td>22500.000000</td>\n",
       "      <td>47137.211760</td>\n",
       "      <td>1.000000</td>\n",
       "      <td>1.000000</td>\n",
       "      <td>1.000000</td>\n",
       "      <td>1.000000</td>\n",
       "      <td>123.000000</td>\n",
       "      <td>358.000000</td>\n",
       "      <td>30000.000000</td>\n",
       "      <td>50721.483360</td>\n",
       "      <td>76406.207520</td>\n",
       "      <td>1.000000</td>\n",
       "      <td>12.000000</td>\n",
       "      <td>7.612525e+01</td>\n",
       "      <td>2.243634e+01</td>\n",
       "    </tr>\n",
       "  </tbody>\n",
       "</table>\n",
       "</div>"
      ],
      "text/plain": [
       "            BALANCE  BALANCE_FREQUENCY     PURCHASES  ONEOFF_PURCHASES  \\\n",
       "count  8.888000e+03        8888.000000   8888.000000       8888.000000   \n",
       "mean   3.003776e+05           0.877183   1004.528936        592.903288   \n",
       "std    2.015979e+07           0.237066   2140.947814       1663.262296   \n",
       "min    0.000000e+00           0.000000      0.000000          0.000000   \n",
       "25%    1.269274e+02           0.888889     39.822500          0.000000   \n",
       "50%    8.695156e+02           1.000000    363.090000         37.150000   \n",
       "75%    2.042886e+03           1.000000   1110.595000        579.017500   \n",
       "max    1.534969e+09           1.000000  49039.570000      40761.250000   \n",
       "\n",
       "       INSTALLMENTS_PURCHASES  CASH_ADVANCE  PURCHASES_FREQUENCY  \\\n",
       "count             8888.000000   8888.000000          8888.000000   \n",
       "mean               411.927924    974.580527             0.491018   \n",
       "std                905.579269   2092.773716             0.401285   \n",
       "min                  0.000000      0.000000             0.000000   \n",
       "25%                  0.000000      0.000000             0.083333   \n",
       "50%                 89.980000      0.000000             0.500000   \n",
       "75%                469.897500   1111.028435             0.916667   \n",
       "max              22500.000000  47137.211760             1.000000   \n",
       "\n",
       "       ONEOFF_PURCHASES_FREQUENCY  PURCHASES_INSTALLMENTS_FREQUENCY  \\\n",
       "count                 8888.000000                       8888.000000   \n",
       "mean                     0.202612                          0.365034   \n",
       "std                      0.298548                          0.397379   \n",
       "min                      0.000000                          0.000000   \n",
       "25%                      0.000000                          0.000000   \n",
       "50%                      0.083333                          0.166667   \n",
       "75%                      0.300000                          0.750000   \n",
       "max                      1.000000                          1.000000   \n",
       "\n",
       "       CASH_ADVANCE_FREQUENCY  CASH_ADVANCE_TRX  PURCHASES_TRX  CREDIT_LIMIT  \\\n",
       "count             8888.000000       8888.000000    8888.000000   8888.000000   \n",
       "mean                 0.134004          3.226260      14.737961   4487.553795   \n",
       "std                  0.197333          6.751734      24.900483   3638.868622   \n",
       "min                  0.000000          0.000000       0.000000     50.000000   \n",
       "25%                  0.000000          0.000000       1.000000   1500.000000   \n",
       "50%                  0.000000          0.000000       7.000000   3000.000000   \n",
       "75%                  0.205556          4.000000      17.000000   6500.000000   \n",
       "max                  1.000000        123.000000     358.000000  30000.000000   \n",
       "\n",
       "           PAYMENTS  MINIMUM_PAYMENTS  PRC_FULL_PAYMENT       TENURE  \\\n",
       "count   8888.000000       8888.000000       8888.000000  8888.000000   \n",
       "mean    1730.296172        834.781189          0.154217    11.521040   \n",
       "std     2894.953292       2343.503996          0.292990     1.331769   \n",
       "min        0.000000          0.000000          0.000000     6.000000   \n",
       "25%      383.211146        162.960515          0.000000    12.000000   \n",
       "50%      856.901546        288.490792          0.000000    12.000000   \n",
       "75%     1899.978541        786.448599          0.142857    12.000000   \n",
       "max    50721.483360      76406.207520          1.000000    12.000000   \n",
       "\n",
       "       BALANCE_NORM  PURCHASES_NORM  \n",
       "count  8.888000e+03    8.888000e+03  \n",
       "mean  -6.395524e-18    3.197762e-17  \n",
       "std    1.000000e+00    1.000000e+00  \n",
       "min   -1.489984e-02   -4.691982e-01  \n",
       "25%   -1.489354e-02   -4.505978e-01  \n",
       "50%   -1.485671e-02   -2.996051e-01  \n",
       "75%   -1.479850e-02    4.954164e-02  \n",
       "max    7.612525e+01    2.243634e+01  "
      ]
     },
     "execution_count": 79,
     "metadata": {},
     "output_type": "execute_result"
    }
   ],
   "source": [
    "df_copia.describe()"
   ]
  },
  {
   "cell_type": "code",
   "execution_count": 80,
   "id": "b344017b",
   "metadata": {},
   "outputs": [
    {
     "data": {
      "text/html": [
       "<div>\n",
       "<style scoped>\n",
       "    .dataframe tbody tr th:only-of-type {\n",
       "        vertical-align: middle;\n",
       "    }\n",
       "\n",
       "    .dataframe tbody tr th {\n",
       "        vertical-align: top;\n",
       "    }\n",
       "\n",
       "    .dataframe thead th {\n",
       "        text-align: right;\n",
       "    }\n",
       "</style>\n",
       "<table border=\"1\" class=\"dataframe\">\n",
       "  <thead>\n",
       "    <tr style=\"text-align: right;\">\n",
       "      <th></th>\n",
       "      <th>CUST_ID</th>\n",
       "      <th>BALANCE</th>\n",
       "      <th>BALANCE_FREQUENCY</th>\n",
       "      <th>PURCHASES</th>\n",
       "      <th>ONEOFF_PURCHASES</th>\n",
       "      <th>INSTALLMENTS_PURCHASES</th>\n",
       "      <th>CASH_ADVANCE</th>\n",
       "      <th>PURCHASES_FREQUENCY</th>\n",
       "      <th>ONEOFF_PURCHASES_FREQUENCY</th>\n",
       "      <th>PURCHASES_INSTALLMENTS_FREQUENCY</th>\n",
       "      <th>CASH_ADVANCE_FREQUENCY</th>\n",
       "      <th>CASH_ADVANCE_TRX</th>\n",
       "      <th>PURCHASES_TRX</th>\n",
       "      <th>CREDIT_LIMIT</th>\n",
       "      <th>PAYMENTS</th>\n",
       "      <th>MINIMUM_PAYMENTS</th>\n",
       "      <th>PRC_FULL_PAYMENT</th>\n",
       "      <th>TENURE</th>\n",
       "      <th>BALANCE_NORM</th>\n",
       "      <th>PURCHASES_NORM</th>\n",
       "    </tr>\n",
       "  </thead>\n",
       "  <tbody>\n",
       "    <tr>\n",
       "      <th>0</th>\n",
       "      <td>C10001</td>\n",
       "      <td>40.900749</td>\n",
       "      <td>0.818182</td>\n",
       "      <td>95.40</td>\n",
       "      <td>0.00</td>\n",
       "      <td>95.40</td>\n",
       "      <td>0.000000</td>\n",
       "      <td>0.166667</td>\n",
       "      <td>0.000000</td>\n",
       "      <td>0.083333</td>\n",
       "      <td>0.000000</td>\n",
       "      <td>0</td>\n",
       "      <td>2</td>\n",
       "      <td>1000.0</td>\n",
       "      <td>201.802084</td>\n",
       "      <td>139.509787</td>\n",
       "      <td>0.0</td>\n",
       "      <td>12</td>\n",
       "      <td>-0.014898</td>\n",
       "      <td>-0.424639</td>\n",
       "    </tr>\n",
       "    <tr>\n",
       "      <th>2</th>\n",
       "      <td>C10003</td>\n",
       "      <td>2495.148862</td>\n",
       "      <td>1.000000</td>\n",
       "      <td>773.17</td>\n",
       "      <td>773.17</td>\n",
       "      <td>0.00</td>\n",
       "      <td>0.000000</td>\n",
       "      <td>1.000000</td>\n",
       "      <td>1.000000</td>\n",
       "      <td>0.000000</td>\n",
       "      <td>0.000000</td>\n",
       "      <td>0</td>\n",
       "      <td>12</td>\n",
       "      <td>7500.0</td>\n",
       "      <td>622.066742</td>\n",
       "      <td>627.284787</td>\n",
       "      <td>0.0</td>\n",
       "      <td>12</td>\n",
       "      <td>-0.014776</td>\n",
       "      <td>-0.108064</td>\n",
       "    </tr>\n",
       "    <tr>\n",
       "      <th>3</th>\n",
       "      <td>C10004</td>\n",
       "      <td>1666.670542</td>\n",
       "      <td>0.636364</td>\n",
       "      <td>1499.00</td>\n",
       "      <td>1499.00</td>\n",
       "      <td>0.00</td>\n",
       "      <td>205.788017</td>\n",
       "      <td>0.083333</td>\n",
       "      <td>0.083333</td>\n",
       "      <td>0.000000</td>\n",
       "      <td>0.083333</td>\n",
       "      <td>1</td>\n",
       "      <td>1</td>\n",
       "      <td>7500.0</td>\n",
       "      <td>0.000000</td>\n",
       "      <td>0.000000</td>\n",
       "      <td>0.0</td>\n",
       "      <td>12</td>\n",
       "      <td>-0.014817</td>\n",
       "      <td>0.230959</td>\n",
       "    </tr>\n",
       "    <tr>\n",
       "      <th>4</th>\n",
       "      <td>C10005</td>\n",
       "      <td>817.714335</td>\n",
       "      <td>1.000000</td>\n",
       "      <td>16.00</td>\n",
       "      <td>16.00</td>\n",
       "      <td>0.00</td>\n",
       "      <td>0.000000</td>\n",
       "      <td>0.083333</td>\n",
       "      <td>0.083333</td>\n",
       "      <td>0.000000</td>\n",
       "      <td>0.000000</td>\n",
       "      <td>0</td>\n",
       "      <td>1</td>\n",
       "      <td>1200.0</td>\n",
       "      <td>678.334763</td>\n",
       "      <td>244.791237</td>\n",
       "      <td>0.0</td>\n",
       "      <td>12</td>\n",
       "      <td>-0.014859</td>\n",
       "      <td>-0.461725</td>\n",
       "    </tr>\n",
       "    <tr>\n",
       "      <th>5</th>\n",
       "      <td>C10006</td>\n",
       "      <td>1809.828751</td>\n",
       "      <td>1.000000</td>\n",
       "      <td>1333.28</td>\n",
       "      <td>0.00</td>\n",
       "      <td>1333.28</td>\n",
       "      <td>0.000000</td>\n",
       "      <td>0.666667</td>\n",
       "      <td>0.000000</td>\n",
       "      <td>0.583333</td>\n",
       "      <td>0.000000</td>\n",
       "      <td>0</td>\n",
       "      <td>8</td>\n",
       "      <td>1800.0</td>\n",
       "      <td>1400.057770</td>\n",
       "      <td>2407.246035</td>\n",
       "      <td>0.0</td>\n",
       "      <td>12</td>\n",
       "      <td>-0.014810</td>\n",
       "      <td>0.153554</td>\n",
       "    </tr>\n",
       "  </tbody>\n",
       "</table>\n",
       "</div>"
      ],
      "text/plain": [
       "  CUST_ID      BALANCE  BALANCE_FREQUENCY  PURCHASES  ONEOFF_PURCHASES  \\\n",
       "0  C10001    40.900749           0.818182      95.40              0.00   \n",
       "2  C10003  2495.148862           1.000000     773.17            773.17   \n",
       "3  C10004  1666.670542           0.636364    1499.00           1499.00   \n",
       "4  C10005   817.714335           1.000000      16.00             16.00   \n",
       "5  C10006  1809.828751           1.000000    1333.28              0.00   \n",
       "\n",
       "   INSTALLMENTS_PURCHASES  CASH_ADVANCE  PURCHASES_FREQUENCY  \\\n",
       "0                   95.40      0.000000             0.166667   \n",
       "2                    0.00      0.000000             1.000000   \n",
       "3                    0.00    205.788017             0.083333   \n",
       "4                    0.00      0.000000             0.083333   \n",
       "5                 1333.28      0.000000             0.666667   \n",
       "\n",
       "   ONEOFF_PURCHASES_FREQUENCY  PURCHASES_INSTALLMENTS_FREQUENCY  \\\n",
       "0                    0.000000                          0.083333   \n",
       "2                    1.000000                          0.000000   \n",
       "3                    0.083333                          0.000000   \n",
       "4                    0.083333                          0.000000   \n",
       "5                    0.000000                          0.583333   \n",
       "\n",
       "   CASH_ADVANCE_FREQUENCY  CASH_ADVANCE_TRX  PURCHASES_TRX  CREDIT_LIMIT  \\\n",
       "0                0.000000                 0              2        1000.0   \n",
       "2                0.000000                 0             12        7500.0   \n",
       "3                0.083333                 1              1        7500.0   \n",
       "4                0.000000                 0              1        1200.0   \n",
       "5                0.000000                 0              8        1800.0   \n",
       "\n",
       "      PAYMENTS  MINIMUM_PAYMENTS  PRC_FULL_PAYMENT  TENURE  BALANCE_NORM  \\\n",
       "0   201.802084        139.509787               0.0      12     -0.014898   \n",
       "2   622.066742        627.284787               0.0      12     -0.014776   \n",
       "3     0.000000          0.000000               0.0      12     -0.014817   \n",
       "4   678.334763        244.791237               0.0      12     -0.014859   \n",
       "5  1400.057770       2407.246035               0.0      12     -0.014810   \n",
       "\n",
       "   PURCHASES_NORM  \n",
       "0       -0.424639  \n",
       "2       -0.108064  \n",
       "3        0.230959  \n",
       "4       -0.461725  \n",
       "5        0.153554  "
      ]
     },
     "execution_count": 80,
     "metadata": {},
     "output_type": "execute_result"
    }
   ],
   "source": [
    "df_copia.head()"
   ]
  },
  {
   "cell_type": "code",
   "execution_count": 81,
   "id": "20118199",
   "metadata": {},
   "outputs": [
    {
     "name": "stdout",
     "output_type": "stream",
     "text": [
      "Cantidad de valores negativos en la columna 'mi_columna': 0\n"
     ]
    }
   ],
   "source": [
    "cantidad_negativos = (df_copia['BALANCE'] < 0).sum()\n",
    "\n",
    "print(\"Cantidad de valores negativos en la columna 'mi_columna':\", cantidad_negativos)"
   ]
  },
  {
   "cell_type": "markdown",
   "id": "6427c2ee",
   "metadata": {},
   "source": [
    "## 3. Modelamiento"
   ]
  },
  {
   "cell_type": "markdown",
   "id": "9b9de6fa",
   "metadata": {},
   "source": [
    "### 3.1. Identificar las variables a utilizar"
   ]
  },
  {
   "cell_type": "code",
   "execution_count": 169,
   "id": "4b0e0dde",
   "metadata": {},
   "outputs": [],
   "source": [
    "# Empecemos con calma, vamos a ver que se evidenciamos a partir de la \n",
    "# seleccion del subconjunto de las siguintes columnas sin normalizar \n",
    "# \"BALANCE_\", \"PURCHASES\", \"CASH_ADVANCE\", \"PAYMENTS\", \n",
    "first_model_selec = [\"BALANCE_FREQUENCY\",\"CASH_ADVANCE_FREQUENCY\"]\n",
    "df_copia_model = df_copia[first_model_selec].head(100).copy()"
   ]
  },
  {
   "cell_type": "code",
   "execution_count": 170,
   "id": "81defddf",
   "metadata": {},
   "outputs": [
    {
     "data": {
      "text/html": [
       "<div>\n",
       "<style scoped>\n",
       "    .dataframe tbody tr th:only-of-type {\n",
       "        vertical-align: middle;\n",
       "    }\n",
       "\n",
       "    .dataframe tbody tr th {\n",
       "        vertical-align: top;\n",
       "    }\n",
       "\n",
       "    .dataframe thead th {\n",
       "        text-align: right;\n",
       "    }\n",
       "</style>\n",
       "<table border=\"1\" class=\"dataframe\">\n",
       "  <thead>\n",
       "    <tr style=\"text-align: right;\">\n",
       "      <th></th>\n",
       "      <th>BALANCE_FREQUENCY</th>\n",
       "      <th>CASH_ADVANCE_FREQUENCY</th>\n",
       "    </tr>\n",
       "  </thead>\n",
       "  <tbody>\n",
       "    <tr>\n",
       "      <th>0</th>\n",
       "      <td>0.818182</td>\n",
       "      <td>0.000000</td>\n",
       "    </tr>\n",
       "    <tr>\n",
       "      <th>2</th>\n",
       "      <td>1.000000</td>\n",
       "      <td>0.000000</td>\n",
       "    </tr>\n",
       "    <tr>\n",
       "      <th>3</th>\n",
       "      <td>0.636364</td>\n",
       "      <td>0.083333</td>\n",
       "    </tr>\n",
       "    <tr>\n",
       "      <th>4</th>\n",
       "      <td>1.000000</td>\n",
       "      <td>0.000000</td>\n",
       "    </tr>\n",
       "    <tr>\n",
       "      <th>5</th>\n",
       "      <td>1.000000</td>\n",
       "      <td>0.000000</td>\n",
       "    </tr>\n",
       "    <tr>\n",
       "      <th>...</th>\n",
       "      <td>...</td>\n",
       "      <td>...</td>\n",
       "    </tr>\n",
       "    <tr>\n",
       "      <th>104</th>\n",
       "      <td>1.000000</td>\n",
       "      <td>0.000000</td>\n",
       "    </tr>\n",
       "    <tr>\n",
       "      <th>105</th>\n",
       "      <td>0.090909</td>\n",
       "      <td>0.000000</td>\n",
       "    </tr>\n",
       "    <tr>\n",
       "      <th>106</th>\n",
       "      <td>1.000000</td>\n",
       "      <td>0.083333</td>\n",
       "    </tr>\n",
       "    <tr>\n",
       "      <th>107</th>\n",
       "      <td>1.000000</td>\n",
       "      <td>0.333333</td>\n",
       "    </tr>\n",
       "    <tr>\n",
       "      <th>108</th>\n",
       "      <td>1.000000</td>\n",
       "      <td>0.000000</td>\n",
       "    </tr>\n",
       "  </tbody>\n",
       "</table>\n",
       "<p>100 rows × 2 columns</p>\n",
       "</div>"
      ],
      "text/plain": [
       "     BALANCE_FREQUENCY  CASH_ADVANCE_FREQUENCY\n",
       "0             0.818182                0.000000\n",
       "2             1.000000                0.000000\n",
       "3             0.636364                0.083333\n",
       "4             1.000000                0.000000\n",
       "5             1.000000                0.000000\n",
       "..                 ...                     ...\n",
       "104           1.000000                0.000000\n",
       "105           0.090909                0.000000\n",
       "106           1.000000                0.083333\n",
       "107           1.000000                0.333333\n",
       "108           1.000000                0.000000\n",
       "\n",
       "[100 rows x 2 columns]"
      ]
     },
     "execution_count": 170,
     "metadata": {},
     "output_type": "execute_result"
    }
   ],
   "source": [
    "df_copia_model"
   ]
  },
  {
   "cell_type": "markdown",
   "id": "a935a0b1",
   "metadata": {},
   "source": [
    "### 3.2. Construir el modelo"
   ]
  },
  {
   "cell_type": "code",
   "execution_count": 173,
   "id": "fcb799f9",
   "metadata": {},
   "outputs": [
    {
     "name": "stdout",
     "output_type": "stream",
     "text": [
      "Etiquetas de los clusters:\n",
      "[ 0  0  0  0  0  0  0  0  0  0  0  0 -1  0  0  0  0  0  0  0 -1  0  0  0\n",
      "  0  1  0  0  0  0  0  0  0  1  0 -1 -1  0  0  0  0 -1  0  0  0  1  0  0\n",
      " -1  0  0  0  0  0  0  0  0  0  0  0 -1  0  0  0  1  0  0  0  0  0  0  0\n",
      "  0  0 -1  0  0  0  0  1  1  0  0  0  0  0  0  0  0  0  0 -1 -1  0 -1  0\n",
      " -1  0  0  0]\n"
     ]
    }
   ],
   "source": [
    "from sklearn.cluster import DBSCAN\n",
    "from sklearn.preprocessing import StandardScaler\n",
    "from sklearn.decomposition import PCA\n",
    "\n",
    "# Normaliza los datos\n",
    "scaler = StandardScaler()\n",
    "df_modelo_norm = scaler.fit_transform(df_copia_model)\n",
    "\n",
    "# Realiza la reducción de dimensionalidad utilizando PCA\n",
    "pca = PCA(n_components=2)\n",
    "df_modelo_pca = pca.fit_transform(df_modelo_norm)\n",
    "\n",
    "# Crea y entrena el modelo DBSCAN\n",
    "dbscan = DBSCAN(eps=0.5, min_samples=5)\n",
    "dbscan.fit(df_modelo_norm)\n",
    "\n",
    "print(\"Etiquetas de los clusters:\")\n",
    "print(dbscan.labels_)"
   ]
  },
  {
   "cell_type": "code",
   "execution_count": 174,
   "id": "464f51c0",
   "metadata": {},
   "outputs": [
    {
     "data": {
      "image/png": "[encoded data removed]",
      "text/plain": [
       "<Figure size 800x600 with 2 Axes>"
      ]
     },
     "metadata": {},
     "output_type": "display_data"
    }
   ],
   "source": [
    "# Visualiza los resultados\n",
    "plt.figure(figsize=(8, 6))\n",
    "\n",
    "# Grafica los puntos de datos\n",
    "plt.scatter(df_modelo_pca[:, 0], df_modelo_pca[:, 1], c=dbscan.labels_, cmap='viridis', alpha=0.5)\n",
    "\n",
    "# Ajusta los parámetros del gráfico\n",
    "plt.title('DBSCAN Clustering')\n",
    "plt.xlabel('Componente Principal 1')\n",
    "plt.ylabel('Componente Principal 2')\n",
    "plt.colorbar(label='Cluster')\n",
    "\n",
    "plt.show()"
   ]
  },
  {
   "cell_type": "markdown",
   "id": "77b6b174",
   "metadata": {},
   "source": []
  }
 ],
 "metadata": {
  "kernelspec": {
   "display_name": "Python 3 (ipykernel)",
   "language": "python",
   "name": "python3"
  },
  "language_info": {
   "codemirror_mode": {
    "name": "ipython",
    "version": 3
   },
   "file_extension": ".py",
   "mimetype": "text/x-python",
   "name": "python",
   "nbconvert_exporter": "python",
   "pygments_lexer": "ipython3",
   "version": "3.11.5"
  }
 },
 "nbformat": 4,
 "nbformat_minor": 5
}
